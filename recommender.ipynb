{
  "nbformat": 4,
  "nbformat_minor": 0,
  "metadata": {
    "colab": {
      "name": "Untitled3.ipynb",
      "provenance": [],
      "collapsed_sections": [],
      "include_colab_link": true
    },
    "kernelspec": {
      "name": "python3",
      "display_name": "Python 3"
    }
  },
  "cells": [
    {
      "cell_type": "markdown",
      "metadata": {
        "id": "view-in-github",
        "colab_type": "text"
      },
      "source": [
        "<a href=\"https://colab.research.google.com/github/ashnarayan13/food_recommendation/blob/store-data/recommender.ipynb\" target=\"_parent\"><img src=\"https://colab.research.google.com/assets/colab-badge.svg\" alt=\"Open In Colab\"/></a>"
      ]
    },
    {
      "cell_type": "code",
      "metadata": {
        "id": "aTAmG-0rxpJy",
        "colab_type": "code",
        "colab": {}
      },
      "source": [
        "import pandas as pd\n",
        "import json"
      ],
      "execution_count": 0,
      "outputs": []
    },
    {
      "cell_type": "code",
      "metadata": {
        "id": "Og9zr4_5xufh",
        "colab_type": "code",
        "colab": {}
      },
      "source": [
        "import matplotlib\n",
        "%matplotlib inline"
      ],
      "execution_count": 0,
      "outputs": []
    },
    {
      "cell_type": "code",
      "metadata": {
        "id": "hEYdIGEPx3bg",
        "colab_type": "code",
        "outputId": "07cac96a-cc3d-4651-d2ed-e8b1447319e0",
        "colab": {
          "base_uri": "https://localhost:8080/",
          "height": 153
        }
      },
      "source": [
        "\n",
        "df = pd.read_json('/content/sample_data/full_data_clean.json')\n",
        "\n",
        "print(df.head())"
      ],
      "execution_count": 6,
      "outputs": [
        {
          "output_type": "stream",
          "text": [
            "   time       date  ...                                         ingredient serves\n",
            "0   -15 2019-09-19  ...  [karamani/ black eyed peas, water, coconut oil...      6\n",
            "1    20 2019-08-07  ...  [chickpeas/ channa, carrot (grated), yellow ca...      4\n",
            "2    30 2019-08-01  ...  [wheat flour, gram flour, kasuri  methi, chill...      4\n",
            "3    30 2019-07-29  ...  [jowar flour, grated carrot, grated cucumber, ...      4\n",
            "4    10 2019-07-15  ...  [apple, pear, pomegranate, cucumber, orange, p...      4\n",
            "\n",
            "[5 rows x 9 columns]\n"
          ],
          "name": "stdout"
        }
      ]
    },
    {
      "cell_type": "code",
      "metadata": {
        "id": "YAsdFtyq0s2Y",
        "colab_type": "code",
        "outputId": "eb9c329d-5baf-4f02-a248-7ab7d4fae1e8",
        "colab": {
          "base_uri": "https://localhost:8080/",
          "height": 136
        }
      },
      "source": [
        "number = int(input('Enter ingredients: '))\n",
        "ing = []\n",
        "for i in range(number):\n",
        "  ing.append(input('Enter ingredient: '))\n",
        "print(ing)"
      ],
      "execution_count": 7,
      "outputs": [
        {
          "output_type": "stream",
          "text": [
            "Enter ingredients: 5\n",
            "Enter ingredient: potato\n",
            "Enter ingredient: tomato\n",
            "Enter ingredient: onion\n",
            "Enter ingredient: spinach\n",
            "Enter ingredient: carrot\n",
            "['potato', 'tomato', 'onion', 'spinach', 'carrot']\n"
          ],
          "name": "stdout"
        }
      ]
    },
    {
      "cell_type": "code",
      "metadata": {
        "id": "PiDfTWS94JpL",
        "colab_type": "code",
        "outputId": "d1edc636-7974-42be-9559-5921b5ed669b",
        "colab": {
          "base_uri": "https://localhost:8080/",
          "height": 54
        }
      },
      "source": [
        "# clean the ingredients\n",
        "# get all ingredients\n",
        "\n",
        "all_ingredients = set()\n",
        "for index, row in df.iterrows():\n",
        "  data = row['ingredient']\n",
        "  for i in data:\n",
        "    if len(i):\n",
        "      all_ingredients.add(i)\n",
        "print(all_ingredients)\n"
      ],
      "execution_count": 8,
      "outputs": [
        {
          "output_type": "stream",
          "text": [
            "{'cowpeas', 'karpuravalli', 'banana', 'colourful sprinkles', 'frozen', 'toasted sesame seeds', 'omavalli illai', 'diced carrot', 'quinoa', 'kiwi', 'fresh coconut scrapping', 'pineapple pieces', 'italian', 'rasam', 'mozzarella', 'spring onions( cut finely)', 'kasuri methi', 'red chilli powder', 'saunf/fennel seeds', 'sago', 'fennel seeds', 'pepper corns', 'nectarine', 'cocoa  powder', 'cury leaves', 'chocolate chips', 'onion (big)', 'rice flakes', 'fresh coconut flour', 'brocolli florets', 'strawberry(chopped)', 'water', 'thyme ', 'milk(hot)', 'salt\\n  ', 'candied fruits', 'all', 'yellow food colour', 'brown butter', 'chopped coriander leaves', 'vinegar', 'roasted peanuts', 'coriander', 'corainder', 'potato(small)', 'tomato puree', 'quinoa flakes', 'fine', 'mixed fruit jan', 'baby', 'milk to soak the saffron', 'green chilli ', 'basil', 'cumber', 'green chilies', 'ghee', 'rice flour', 'basmati', 'cinnamon powder', 'fresh curd', 'bay leaf', 'cooked rice vermicelli', 'spinach / palak', 'ice cubes', 'oil', 'red lentil / masoor dal', 'sugar', 'crushpeanuts', 'pudina /mint', 'garam masala', 'grated zucchini', 'tomatoes', 'nutella', 'panch poren', 'olive oil', 'green gram dal/ moong dal', 'rede chilli powder', 'muskmelon', 'olive', 'kasuri', 'small banana', 'tuvar', 'dried cranberries', 'bread crumbs', 'chironji', 'pumpkin ', 'full cream milk', 'onion', 'honey(optional)', 'pineapple(cut', 'oil\\n  ', 'pulp of tender coconut', 'urad dal flour', 'pulp', 'cloves', 'soda water', 'unsweetened cocoa powder', 'cauliflower florets', 'water melon cubes', 'chilli', 'cane', 'curd/yogurt', 'carrot', 'rose petals', 'egg whites', 'fine semolina', 'black', 'lady', 'sago/javvarisi', 'vital', 'baking', 'bayleaf', 'saffron ', 'cornflour', 'sweet', 'whole wheat flour', 'drumstick leaves', 'fresh', 'cuminseeds', 'soft butter', 'salt biscuits', 'vanilla ', 'egg free mayanaisse', 'cream', 'gram dal/ kadalebele', 'garlic', 'garlic ', 'chilli sauce', 'thick red beaten rice/red poha/red aval', 'sliced nuts', 'herbs', 'ripe peach', 'chiili', 'panch poran', 'persimmon', 'cinnamom', 'pears(cored', 'salt', 'dessicated', 'kodo millet / varagu', 'green', 'gram flour', 'sweet corn kernels', 'maize', 'mint keaves', 'hershey kisses', 'cadbury nutties', 'rava/ sooji', 'fresh mint(cut finely)', 'ajwain', 'fennel seeds / saunf', 'mangoes', 'ghee/coconut', 'cabbage', 'thin', 'paneer/cottage cheese', 'bell pepper(cubed)', 'whipping', 'chaat', 'urad dhal', 'flour', 'ginger', 'grated', 'cooked', 'methi leaves', 'grated carrot', 'ripe papaya', 'milk+ water', 'idli batter', 'strawberries(chopped)', 'little', 'onion\\n  ', 'white sesame seeds', 'spring onion greens', 'almonds', 'glazed cherries', 'coarsely ground nuts', 'green bell pepper', 'thyme', 'kasuri  methi', 'hung', 'melted', 'tender drumsticks', 'wholewheat flour', 'candied ginger', 'fresh strawberries', 'mexican', 'fresh coconut', 'red chilly', 'dessicated coconut', 'toasted sesame', 'chat', 'guava', 'brown sugar', 'apple(cored', 'dark chocolate', 'bell pepper', 'condensed milk', 'godumai', 'fresh neem flower', 'dry ginger powder', 'murunga keerai spice podi', 'chillipowder', 'ponni', 'gingelly oil', 'red chillies', 'icing sugar', 'dried basil powder', 'salted', 'gluten', 'oreo', 'ponk /green jowar', 'capsicum', 'tomato', 'byadagi chillies', 'mozarella', 'boiling', 'orange marmalade', 'all purpose flour', 'pumpkin', 'gram masala', 'butter milk', 'cumin', 'red pepper sauce', 'bengal gram', 'whipping cream', 'daniya', 'fresh cream', 'beetroot( grated)', 'milagu / pepper', 'carrots', 'warm water', 'mango pulp', 'musk', 'poppy', 'medium', 'instant coffee', 'garam', 'cooking oil', 'cheese', 'tuvar dal', 'golden raisins', 'onions', 'rava', 'corn flour', 'ghee ', 'moringa leaves/ murunga keerai', 'ccoconut', 'paprika', 'jowar grits', 'paruppu', 'bittergourd', 'eggs ', 'coconut milk', 'bay leaves', 'urad', 'salt(', 'paneer/feta', 'chikpea flour/besan', 'lemon juice', 'butter', 'black cardamom', 'peanut powder', 'cold milk', 'oats', 'cashew\\n  ', 'raw rice', 'kala', 'fennel', 'vegetable', 'tender coconut water', 'jeera powder', 'coconut oil', 'lemon ', 'rose essense', 'par boiled rice', 'barnyard', 'granulated sugar', 'turmeric', 'carrot (cubed)', 'milk', 'mixed vegetables', 'cumin seeds', 'orange', 'bajra', 'asafoetida ', 'dragon fruit', 'pepper ', 'phool makhana', 'cucumber(cut', 'strawberry icecream', 'yellow pepper', 'cold water', 'black gram dal', 'luke', 'palak', 'roasted gram dal', 'red', 'fresh aavarampoo', 'shredded cabbage', 'almomds', 'active dry yeast', 'instant', 'marinara', 'butter ', 'green chillies', 'ragi flour', 'gingelly', 'papaya', 'coarsely', 'green chilli', 'apple cider vinegar', 'tamarind paste', 'samba rava', 'lime juice', 'melted butter', 'processed rice flour', 'nylon vermicelli', 'blanched almonds', 'beans', 'dried red chillies', 'small', 'roasted', 'moringa leaves powder', 'coriander seeds / daniya', 'canned chickpeas', 'roasted cumin powder', 'fenugreek powder', 'chickpea vegetable salad', 'cucumber', 'chopped', 'soda', 'cumin powder', 'gothsu podi', 'raw mangoes', 'chocolate', 'pachai kalpuram', 'jaggery', 'almond milk', 'golden', 'avarekaalu', 'broken', 'oats flakes', 'ground almonds', 'ginger chilli paste', 'peas', 'yellow capsicum(cut finely)', 'green gram dal', 'shah', 'dates', 'beet greens', 'mor', 'yogurt', 'grated coconut', 'walnuts', 'pottukadalai/fried', 'dried grated coconut', 'boiled', 'foxtail millet', 'fresh cococnut', 'potatoes', 'bajra flour', 'zucchini ', 'turmeric owder', 'mini gulab jamun', 'parsley', 'vanilla', 'shallots', 'fresh orange juice', 'curds', 'ice', 'instant puliyogare mix', 'honey', 'karamani/ black eyed peas', 'apple butter', 'instant coffee powder', 'horsegram/kollu', 'mustard seeds ', 'pomegranate pearls', 'dried', 'coriander seeds', 'slivered almonds', 'vanilla icecream', 'thin tamarind extract', 'raw rice ', 'star anise', 'butter scotch essence', 'caramel syrup', 'dried kiwi', 'lemon', 'brown chickpeas/ kala channa', 'urad dal/ black gram dal', 'mint/coriander', 'bread', 'red chillis', 'buttermilk', 'cashew', 'heavy cream ', 'drumstick', 'oregano', 'thinai', 'cocoa powder', 'currants', 'diced cucumber', 'methi seeds', 'ripe', 'chat masala', 'brinjal', 'beans8', 'blackgram dal', 'red chilies', 'hot', 'pistachios', 'apple juice', 'javitri', 'eggplants/ kathrikai', 'mozarella cheese', 'rava / semolina', 'sour', 'pruppu keerai', 'urad dal / black gram dal', 'salt(for boiling the gnocchi)', 'bengalgram dal', 'rose syrup', 'orange blossom water', 'luke warm water', 'egg plant', 'carrot (grated)', 'ener g egg replacer', 'mustard sauce', 'banana stem', 'thin poha', 'cinnamon', 'green chiilies', 'cashew(soaked', 'light corn syrup', 'sourdough starter', 'grated zest', 'channa dal/bengal gram dal', 'feta cheese', 'cowpeas/karamani', 'white', 'rock salt', 'finger millet', 'kalonji', 'chocolates and cherries', 'berries', 'tutty', 'tortillas', 'broken black gram with skin', 'lychee', 'plum', 'coriander leaves', 'dark chocolate chips', 'chilli powder', 'baking soda', 'caradmom powder', 'orange peel', 'chia seeds', 'gram', 'spinach/palak', 'whole', 'corinader powder', 'cold', 'chaat masala', 'instant yest', 'fenugreek seeds', 'bengal', 'unsalted butter', 'freshly grated coconut', 'dhaniya', 'chatotha leaves', 'cardamom', 'baked', 'mango ginger', 'moong', 'sambhar', 'ripe mango', '\\xa0raw rice', 'subja seeds', 'powdered sugar', 'masoor dal', 'red chiily', 'grated ginger', 'peas(boiled)', 'white sugar', 'jam', 'unknown', 'heavy cream(non diary)', 'fresh pitted cherries', 'green gram dal ', 'meetha pan masala', 'bay', 'banyard', 'dried basil', 'millet flour', 'vegetable stock/water', 'poppy seeds', 'mixed', 'thick yogurt/curd', 'bitter', 'big eggplant', 'tea powder', 'benagl gram dal', 'proso millet', 'sago / javvarisi', 'nutmeg', 'red bell pepper', 'english mustard sauce', 'apples', 'ginger grated', 'green  raw chickpea', 'peppper', 'sumac', 'eno fruit salt', 'passion fruit', 'garam masala ', 'bell', 'colocasia leaves', 'powdered', 'methi daana / fenugreek seeds', 'gulab jamun', 'bitter gourd', 'alphonso', 'tuvar dhal', 'coking', 'turmeric powder', 'cream cheese', 'rasavangi', 'gram dal', 'pepper powder', 'mint', 'mustard', 'walnut', 'black seedless grapes', 'pav', 'butter(melted)', 'garlic paste', 'jeera', 'pineapple', 'ivy gourd/ kovakkai/ tondli', 'mango cubes ', 'pepper', 'club', 'red pepper', 'varagu arisi flour', 'plaintain', 'dark', 'sesame oil', 'oil ', 'fresh coriander( cut finely)', 'guntur red hillies', 'condensed', 'palak/spinach', 'chana dal', 'urad dal', 'kadalai paruppu', 'wtaer', 'sev', 'fresh fenugreek seeds', 'raw mango', 'sesame seeds / til', 'tomato sauce', 'cocoa', 'cherry tomatoes(halved)', 'tuttifrutti', 'ginger(shredded)', 'almond meal', 'lukewarm water', 'chiili flakes', 'fresh coriander', 'tamarind', 'rice', 'corn', 'kodo millet', 'green peas', 'saffron strands ', 'vanilla essense', 'lettuce(shredded)', 'ginger powder', 'paneer', 'chocolate cups', 'all pupose flour', 'ginger garlic paste', 'nuts(as', 'khus', 'milk powder', 'mango', 'sabza seeds/ basil seeds', 'goda masala', 'green gram dal / moong dal ', 'tofu', 'cardamom powder', 'ripe java plum/ jamun', 'cashew powder', 'sprouted moong beans', 'paprika powder', 'moong dal', 'finger millet flour', 'green cardamom', 'fresh grated coconut', 'toor', 'murunga keerai / drumstick leaves', 'pudina/ mint leaves', 'instant puliyogare powder', 'ripe avocado', 'samai/ little millet', 'aubergine', 'water ', 'tomato ', 'grated cucumber', 'clarified butter', 'betel', 'ferroro rocher', 'pineapple(cubed)', 'glazed', 'sundried tomato', 'asafoetida/ hing', 'eggs', 'kayi saasve paste', 'blackgram', 'oil(for boiling the gnocchi)', 'egg', 'sun dried tomato', 'violet', 'ridge gourd', 'hot ghee', 'daniya ', 'milk +oil', 'red chilli', 'beetroot', 'diced green bell pepper', 'tutti fruitty', 'curry', 'salt ', 'must melon cubes', 'soy sauce', 'amchur', 'tamarind pulp', 'roasted gram', 'wheat flour', 'gulkhand', 'lemon zest', 'cauliflower', 'beet', 'green chilly', 'narthangai/citron\\xa0 ', 'hot water', 'vanilla extract', 'tuvar dal ', 'clove powder', 'bechamal sauce', 'strong coffee', 'kala namak/ pink salat', 'boiled potato', 'masoor', 'betel leaves', 'black carrot', 'spring onion', 'puff pastry sheets', 'pasta', 'barnyard millet/ kuthiraivali ', 'chickpeas', 'rajma / kidney beans', 'toasted nuts', 'sliced pistachios', 'milkmaid', 'active', 'cimmamon', 'rose essence', 'daniya powder', 'semolina', 'peppercorns', 'clove', 'amchoor', 'baking powder', 'bengal gram dhal', 'fenugreek', 'ripe peaches', 'besan', 'vegetables(beans,', 'mint/pudina', 'pesto', 'broken green gram dal with skin', 'cinnamon\\n  ', 'fresh ripe jackfruit', 'garlic(grated)', 'payathanga', 'dosai batter', 'curd ', 'semiya', 'tea', 'all-purpose', 'caramom', 'hung curd', 'chilliflakes', 'marinara sauce', 'semi sweet chocolate chips', 'fresh peas', 'thinai maavu', 'coconut', 'coffee', 'ridge', 'semolina/ rava', 'gulkand', 'strawberries', 'dried apricots', 'jaggery powder', 'green gram sprouts', ' whole urad gram dal', 'methi', 'raw', 'seedless', 'curd', 'red capsicum( cut finely)', 'warm', 'panner', 'mint leaves', 'roasted peanut', 'asafoetida', 'olive oil/ghee', 'sundried tomatoes', 'dry', 'italian sesaonings', 'black pepper powder', 'bay;eaf', 'saffron', 'starter', 'tomato(medium', 'besan/gram flour', 'pear', 'chlled milk', 'large', 'karamudhu podi', 'small ripe banana', 'sesame seeds', 'boiled mixed vegetables', 'coldmilk', 'red chilly powder', 'apple', 'thick coconut milk', 'green moong', 'slat', 'bengal gram dal', 'peaches', 'ripe banana', 'potato', 'caramel', 'zucchini', 'avocado', 'nutmeg powder', 'marinara ', 'low fat yogurt', 'hershey', 'suagr', 'turmeric powder ', 'figs', 'milk\\n  ', 'gram flour / besan', 'fenugreek seed powder', 'carom', 'instant yeast', 'tomato\\n  ', 'whole green moong', 'olives', 'soya sauce', 'cherrytomato', 'broccoli', 'carom seeds', 'papaya(chopped)', 'cherry tomatoes', 'melon/magaz seeds', 'thick coconut milk ', 'semi', 'ginger(cut', 'watermelon', 'moong dal / paasi paruppu', 'orange zest', 'luke warm milk', 'gooseberries', 'tender banan leaves', 'sesame', 'pistachio', 'watermelon cubes', 'asfoetida', 'rice noodles', 'fresh butter beans', 'ommam/ajwain', 'full', 'orange carrot', 'par', 'cucumber(small)', 'ground cumin', 'avarekalu', 'banan', 'cardamom ppowder', 'melted and cooled butter', 'pepper corn', 'fresh methi/ fenugreek leaves', 'pav bhaji masala', 'fresh green chickpeas', 'coriander powder', 'brown', 'vegetable oil', 'vanilla essence', 'daniya/ coriander seeds', 'green chiily', 'nellikai(big', 'coarsely powdered peanuts', 'green beans', 'saffron strands', 'orange juice', 'red chilles', 'raisins', 'curry leaves', 'mustard seeds', 'ragi vermicelli', 'toor dal', 'jowar flour', 'cajun spice powder', 'sorakkai/ bottile gourd', 'peeled and deseeded lychee', 'thick', 'cinnamon stick', 'pomegranate', 'sattu flour', 'strawberry', 'dry red chillies', 'mayo ', 'lemonjuice', 'fresh turmeric', 'amchur powder', 'warm milk', 'green chillies ', 'fresh basil', 'crushed', 'almond flour', 'castor sugar', 'grated jaggery', 'ladyfinger / bhendi', 'green gram dhal', 'chilli flakes', 'chickpeas/ channa', 'peanuts', 'tuvar dal / tuvaram paruppu', 'fresh green peas', 'spinach', 'egg plant (big)'}\n"
          ],
          "name": "stdout"
        }
      ]
    },
    {
      "cell_type": "code",
      "metadata": {
        "id": "0Rcg8PwlxN1d",
        "colab_type": "code",
        "outputId": "34f46588-521e-46f7-d3ff-f5bf55f8594d",
        "colab": {
          "base_uri": "https://localhost:8080/",
          "height": 71
        }
      },
      "source": [
        "maps = []\n",
        "for data in all_ingredients:\n",
        "  if \"tomato\" in data:\n",
        "    maps.append(data)\n",
        "print(len(maps))\n",
        "print(maps)"
      ],
      "execution_count": 9,
      "outputs": [
        {
          "output_type": "stream",
          "text": [
            "13\n",
            "['tomato puree', 'tomatoes', 'tomato', 'tomato sauce', 'cherry tomatoes(halved)', 'tomato ', 'sundried tomato', 'sun dried tomato', 'sundried tomatoes', 'tomato(medium', 'tomato\\n  ', 'cherrytomato', 'cherry tomatoes']\n"
          ],
          "name": "stdout"
        }
      ]
    },
    {
      "cell_type": "code",
      "metadata": {
        "id": "DZDQ9U6U0vYS",
        "colab_type": "code",
        "outputId": "b00f2be0-eb8e-49c4-d676-6b8f1832b55b",
        "colab": {
          "base_uri": "https://localhost:8080/",
          "height": 34
        }
      },
      "source": [
        "highest = 0\n",
        "min_len = int(len(ing)/2)\n",
        "print(min_len)\n",
        "recps = []\n",
        "hits = []\n",
        "for index, row in df.iterrows():\n",
        "  S1 = set(row['ingredient'])\n",
        "  S2 = set(ing)\n",
        "  intersect = len(S1.intersection(S2))\n",
        "  if intersect>=min_len:\n",
        "    if intersect > highest:\n",
        "      highest = intersect\n",
        "    recps.append(row['name'])\n",
        "    hits.append(intersect)"
      ],
      "execution_count": 13,
      "outputs": [
        {
          "output_type": "stream",
          "text": [
            "2\n"
          ],
          "name": "stdout"
        }
      ]
    },
    {
      "cell_type": "code",
      "metadata": {
        "id": "TQe435sP_osA",
        "colab_type": "code",
        "outputId": "c163e25e-c778-44e5-99b8-fa3a539fb629",
        "colab": {
          "base_uri": "https://localhost:8080/",
          "height": 1000
        }
      },
      "source": [
        "print(recps)\n",
        "print(highest)\n",
        "output_recipes = []\n",
        "for i in recps:\n",
        "  temp = (df.loc[df['name']==i])\n",
        "  output_recipes.append(temp)\n",
        "print('There are ', len(output_recipes), ' recipes possible')\n",
        "for rec in output_recipes:\n",
        "  print(rec['name'], ' ingredients \\n',rec['ingredient'], ' Link: ', rec['url'])"
      ],
      "execution_count": 14,
      "outputs": [
        {
          "output_type": "stream",
          "text": [
            "['rajasthani dal dhokli in nutripot', 'nutri-pot rajma masala', 'tangy sweet corn chat', 'quick kodo millet brinji in wonderchef nutripot', 'healthy quick ragi vermicelli upma in instapot', 'pegan spinach broccoli soup in instapot', 'fresh green channa chat / hara channa chaat', 'kaddu ki sabzi', 'ponk salad/ green jowar salad', 'tomato onion chutney', 'finger millet pasta in marinara sauce', 'green peas ambti', 'papdi canape chaat', 'vegetable kolhapuri -a recipe from tarla dalal', 'saag paneer restaurant style', 'vegetarian singapore noodle soup', 'cabbage chutney', 'vegan nicoise salad', 'tomato bisque', 'palak paneer soup', 'carrot masoor dal soup', 'zan – finger millet porridge with vegetables', 'dal tadka-dhaba style', 'chat masala flavoured chickpea pomegranate salad', 'pav bhaji dip -an exotic indian flavoured dip', 'murugan idli shop daniya chutney', 'madras ratna cafe sambhar', 'broccoli spinach coconut soup', 'creamy  sprouted moong subzi', 'green peas masala in pressure cooker', 'avocado tomato salad', 'dal tadka', 'mutter ka nimona', 'vegetable bajra sevai / kambu sevai', 'fresh tuvar curry', 'lobia masala curry / karamani masala curry', 'roasted vegetable salsa and corn bruschetta', 'paneer spinach balls', 'spicy vegetable sandwich', 'spicy corn curry', 'bajre-ki-kichdi', 'vegetable and baked bean quesadilla', 'savoury semolina vegetable bake', 'fresh tomato salsa', 'pasta al forno', 'cheesy bread rings', 'mixed vegetable masala rice', 'aloo mutter without onion and garlic']\n",
            "3\n",
            "There are  48  recipes possible\n",
            "2    rajasthani dal dhokli in nutripot\n",
            "Name: name, dtype: object  ingredients \n",
            " 2    [wheat flour, gram flour, kasuri  methi, chill...\n",
            "Name: ingredient, dtype: object  Link:  2    https://veenasvegnation.com/recipe/rajasthani-...\n",
            "Name: url, dtype: object\n",
            "5    nutri-pot rajma masala\n",
            "Name: name, dtype: object  ingredients \n",
            " 5    [rajma / kidney beans, onion, tomato, green ch...\n",
            "Name: ingredient, dtype: object  Link:  5    https://veenasvegnation.com/recipe/nutri-pot-r...\n",
            "Name: url, dtype: object\n",
            "13    tangy sweet corn chat\n",
            "Name: name, dtype: object  ingredients \n",
            " 13    [sweet corn kernels, onion, tomato, oil, turme...\n",
            "Name: ingredient, dtype: object  Link:  13    https://veenasvegnation.com/recipe/tangy-sweet...\n",
            "Name: url, dtype: object\n",
            "28    quick kodo millet brinji in wonderchef nutripot\n",
            "Name: name, dtype: object  ingredients \n",
            " 28    [kodo millet / varagu, ghee, cumin seeds, gree...\n",
            "Name: ingredient, dtype: object  Link:  28    https://veenasvegnation.com/recipe/quick-kodo-...\n",
            "Name: url, dtype: object\n",
            "41    healthy quick ragi vermicelli upma in instapot\n",
            "Name: name, dtype: object  ingredients \n",
            " 41    [ragi vermicelli, carrot, beans, fresh green p...\n",
            "Name: ingredient, dtype: object  Link:  41    https://veenasvegnation.com/recipe/healthy-qui...\n",
            "Name: url, dtype: object\n",
            "45    pegan spinach broccoli soup in instapot\n",
            "Name: name, dtype: object  ingredients \n",
            " 45    [spinach, broccoli, bay leaf, garlic, coconut ...\n",
            "Name: ingredient, dtype: object  Link:  45    https://veenasvegnation.com/recipe/pegan-spina...\n",
            "Name: url, dtype: object\n",
            "49    fresh green channa chat / hara channa chaat\n",
            "Name: name, dtype: object  ingredients \n",
            " 49    [fresh green chickpeas, onion, tomato, cucumbe...\n",
            "Name: ingredient, dtype: object  Link:  49    https://veenasvegnation.com/recipe/fresh-green...\n",
            "Name: url, dtype: object\n",
            "61    kaddu ki sabzi\n",
            "Name: name, dtype: object  ingredients \n",
            " 61    [pumpkin, onion, oil, mustard seeds, cumin see...\n",
            "Name: ingredient, dtype: object  Link:  61    https://veenasvegnation.com/recipe/kaddu-ki-sa...\n",
            "Name: url, dtype: object\n",
            "62    ponk salad/ green jowar salad\n",
            "Name: name, dtype: object  ingredients \n",
            " 62    [ponk /green jowar, onion, tomato, green chill...\n",
            "Name: ingredient, dtype: object  Link:  62    https://veenasvegnation.com/recipe/ponk-salad-...\n",
            "Name: url, dtype: object\n",
            "76    tomato onion chutney\n",
            "Name: name, dtype: object  ingredients \n",
            " 76    [onion, tomato, green chilly, garlic, ginger, ...\n",
            "Name: ingredient, dtype: object  Link:  76    https://veenasvegnation.com/recipe/tomato-onio...\n",
            "Name: url, dtype: object\n",
            "77    finger millet pasta in marinara sauce\n",
            "Name: name, dtype: object  ingredients \n",
            " 77    [finger millet, onion, tomato, mixed vegetable...\n",
            "Name: ingredient, dtype: object  Link:  77    https://veenasvegnation.com/recipe/finger-mill...\n",
            "Name: url, dtype: object\n",
            "83    green peas ambti\n",
            "Name: name, dtype: object  ingredients \n",
            " 83    [fresh green peas, onion, tomato, coriander se...\n",
            "Name: ingredient, dtype: object  Link:  83    https://veenasvegnation.com/recipe/green-peas-...\n",
            "Name: url, dtype: object\n",
            "95    papdi canape chaat\n",
            "Name: name, dtype: object  ingredients \n",
            " 95    [chikpea flour/besan, wholewheat flour, oil, r...\n",
            "Name: ingredient, dtype: object  Link:  95    https://veenasvegnation.com/recipe/papdi-canap...\n",
            "Name: url, dtype: object\n",
            "101    vegetable kolhapuri -a recipe from tarla dalal\n",
            "Name: name, dtype: object  ingredients \n",
            " 101    [boiled mixed vegetables, onion, tomato, garam...\n",
            "Name: ingredient, dtype: object  Link:  101    https://veenasvegnation.com/recipe/vegetable-k...\n",
            "Name: url, dtype: object\n",
            "103    saag paneer restaurant style\n",
            "Name: name, dtype: object  ingredients \n",
            " 103    [palak, paneer, onion, tomato, turmeric powder...\n",
            "Name: ingredient, dtype: object  Link:  103    https://veenasvegnation.com/recipe/saag-paneer...\n",
            "Name: url, dtype: object\n",
            "112    vegetarian singapore noodle soup\n",
            "Name: name, dtype: object  ingredients \n",
            " 112    [onion, carrot, beans, cabbage, cauliflower, g...\n",
            "Name: ingredient, dtype: object  Link:  112    https://veenasvegnation.com/recipe/vegetarian-...\n",
            "Name: url, dtype: object\n",
            "117    cabbage chutney\n",
            "Name: name, dtype: object  ingredients \n",
            " 117    [cabbage, onion, tomato, green chillies, red c...\n",
            "Name: ingredient, dtype: object  Link:  117    https://veenasvegnation.com/recipe/cabbage-chu...\n",
            "Name: url, dtype: object\n",
            "123    vegan nicoise salad\n",
            "Name: name, dtype: object  ingredients \n",
            " 123    [potato, cherry tomatoes(halved), green beans,...\n",
            "Name: ingredient, dtype: object  Link:  123    https://veenasvegnation.com/recipe/vegan-nicoi...\n",
            "Name: url, dtype: object\n",
            "124    tomato bisque\n",
            "Name: name, dtype: object  ingredients \n",
            " 124    [butter, onion, tomato, carrot, garlic, milk, ...\n",
            "Name: ingredient, dtype: object  Link:  124    https://veenasvegnation.com/recipe/tomato-bisque/\n",
            "Name: url, dtype: object\n",
            "138    palak paneer soup\n",
            "Name: name, dtype: object  ingredients \n",
            " 138    [spinach, onion, garlic, garam masala , salt, ...\n",
            "Name: ingredient, dtype: object  Link:  138    https://veenasvegnation.com/recipe/palak-panee...\n",
            "Name: url, dtype: object\n",
            "139    carrot masoor dal soup\n",
            "Name: name, dtype: object  ingredients \n",
            " 139    [carrot, onion, garlic, masoor dal, milk, chil...\n",
            "Name: ingredient, dtype: object  Link:  139    https://veenasvegnation.com/recipe/carrot-maso...\n",
            "Name: url, dtype: object\n",
            "156    zan – finger millet porridge with vegetables\n",
            "Name: name, dtype: object  ingredients \n",
            " 156    [finger millet flour, carrot, beans, peas, spi...\n",
            "Name: ingredient, dtype: object  Link:  156    https://veenasvegnation.com/recipe/zan-finger-...\n",
            "Name: url, dtype: object\n",
            "159    dal tadka-dhaba style\n",
            "Name: name, dtype: object  ingredients \n",
            " 159    [tuvar dal, bengal gram dal, ghee, onion, toma...\n",
            "Name: ingredient, dtype: object  Link:  159    https://veenasvegnation.com/recipe/dal-tadka-d...\n",
            "Name: url, dtype: object\n",
            "160    chat masala flavoured chickpea pomegranate salad\n",
            "Name: name, dtype: object  ingredients \n",
            " 160    [brown chickpeas/ kala channa, onion, tomato, ...\n",
            "Name: ingredient, dtype: object  Link:  160    https://veenasvegnation.com/recipe/chickpea-po...\n",
            "Name: url, dtype: object\n",
            "172    pav bhaji dip -an exotic indian flavoured dip\n",
            "Name: name, dtype: object  ingredients \n",
            " 172    [onion, capsicum, tomato, carrot, beans, peas,...\n",
            "Name: ingredient, dtype: object  Link:  172    https://veenasvegnation.com/recipe/pav-bhaji-dip/\n",
            "Name: url, dtype: object\n",
            "175    murugan idli shop daniya chutney\n",
            "Name: name, dtype: object  ingredients \n",
            " 175    [coriander seeds, black gram dal, bengal gram ...\n",
            "Name: ingredient, dtype: object  Link:  175    https://veenasvegnation.com/recipe/murugan-idl...\n",
            "Name: url, dtype: object\n",
            "176    madras ratna cafe sambhar\n",
            "Name: name, dtype: object  ingredients \n",
            " 176    [urad dal, red chillies, coriander seeds, fenu...\n",
            "Name: ingredient, dtype: object  Link:  176    https://veenasvegnation.com/recipe/madras-ratn...\n",
            "Name: url, dtype: object\n",
            "214    broccoli spinach coconut soup\n",
            "Name: name, dtype: object  ingredients \n",
            " 214    [brocolli florets, spinach, onion, green chill...\n",
            "Name: ingredient, dtype: object  Link:  214    https://veenasvegnation.com/recipe/broccoli-sp...\n",
            "Name: url, dtype: object\n",
            "226    creamy  sprouted moong subzi\n",
            "Name: name, dtype: object  ingredients \n",
            " 226    [sprouted moong beans, onion, tomato, chilli p...\n",
            "Name: ingredient, dtype: object  Link:  226    https://veenasvegnation.com/recipe/creamy-spro...\n",
            "Name: url, dtype: object\n",
            "261    green peas masala in pressure cooker\n",
            "Name: name, dtype: object  ingredients \n",
            " 261    [fresh, onion, tomato, coriander, cumin, garam...\n",
            "Name: ingredient, dtype: object  Link:  261    https://veenasvegnation.com/green-peas-masala-...\n",
            "Name: url, dtype: object\n",
            "281    avocado tomato salad\n",
            "287    avocado tomato salad\n",
            "Name: name, dtype: object  ingredients \n",
            " 281    [avocado, onion, tomato, cucumber, olive, pepp...\n",
            "287    [avocado, cumber, cherrytomato, salt, olive, p...\n",
            "Name: ingredient, dtype: object  Link:  281    https://veenasvegnation.com/avocado-tomato-salad/\n",
            "287    https://veenasvegnation.com/avocado-tomato-sal...\n",
            "Name: url, dtype: object\n",
            "338    dal tadka\n",
            "Name: name, dtype: object  ingredients \n",
            " 338    [tuvar, masoor, onion, tomato, green, cinnamon...\n",
            "Name: ingredient, dtype: object  Link:  338    https://veenasvegnation.com/dal-tadka/\n",
            "Name: url, dtype: object\n",
            "345    mutter ka nimona\n",
            "Name: name, dtype: object  ingredients \n",
            " 345    [fresh, onion, tomato, cumin, ginger, green, c...\n",
            "Name: ingredient, dtype: object  Link:  345    https://veenasvegnation.com/mutter-ka-nimona/\n",
            "Name: url, dtype: object\n",
            "356    vegetable bajra sevai / kambu sevai\n",
            "Name: name, dtype: object  ingredients \n",
            " 356    [bajra, onion, tomato, capsicum, carrot, beans...\n",
            "Name: ingredient, dtype: object  Link:  356    https://veenasvegnation.com/vegetable-bajra-se...\n",
            "Name: url, dtype: object\n",
            "358    fresh tuvar curry\n",
            "Name: name, dtype: object  ingredients \n",
            " 358    [fresh, onion, tomato, green, oil, cumin, cori...\n",
            "Name: ingredient, dtype: object  Link:  358    https://veenasvegnation.com/fresh-tuvar-curry/\n",
            "Name: url, dtype: object\n",
            "365    lobia masala curry / karamani masala curry\n",
            "Name: name, dtype: object  ingredients \n",
            " 365    [cowpeas/karamani, cumin, onion, tomato, ginge...\n",
            "Name: ingredient, dtype: object  Link:  365    https://veenasvegnation.com/lobia-masala-curry...\n",
            "Name: url, dtype: object\n",
            "367    roasted vegetable salsa and corn bruschetta\n",
            "Name: name, dtype: object  ingredients \n",
            " 367    [red, green, red, carrot, tomatoes, onion, gar...\n",
            "Name: ingredient, dtype: object  Link:  367    https://veenasvegnation.com/roasted-vegetable-...\n",
            "Name: url, dtype: object\n",
            "368    paneer spinach balls\n",
            "Name: name, dtype: object  ingredients \n",
            " 368    [panner, spinach, potato, green, red, garam, c...\n",
            "Name: ingredient, dtype: object  Link:  368    https://veenasvegnation.com/paneer-spinach-balls/\n",
            "Name: url, dtype: object\n",
            "385    spicy vegetable sandwich\n",
            "Name: name, dtype: object  ingredients \n",
            " 385    [bread, onion, tomato, green, carrot, italian,...\n",
            "Name: ingredient, dtype: object  Link:  385    https://veenasvegnation.com/spicy-vegetable-sa...\n",
            "Name: url, dtype: object\n",
            "386    spicy corn curry\n",
            "Name: name, dtype: object  ingredients \n",
            " 386    [sweet, cumin, carrot, beans, onion, tomato\\n ...\n",
            "Name: ingredient, dtype: object  Link:  386    https://veenasvegnation.com/spicy-corn-curry/\n",
            "Name: url, dtype: object\n",
            "387    bajre-ki-kichdi\n",
            "Name: name, dtype: object  ingredients \n",
            " 387    [bajra, green, onion, carrot, beans8, green, w...\n",
            "Name: ingredient, dtype: object  Link:  387    https://veenasvegnation.com/bajre-ki-kichdi/\n",
            "Name: url, dtype: object\n",
            "390    vegetable and baked bean quesadilla\n",
            "Name: name, dtype: object  ingredients \n",
            " 390    [tortillas, baked, onion, tomato, green, mozza...\n",
            "Name: ingredient, dtype: object  Link:  390    https://veenasvegnation.com/vegetable-and-bake...\n",
            "Name: url, dtype: object\n",
            "410    savoury semolina vegetable bake\n",
            "Name: name, dtype: object  ingredients \n",
            " 410    [semolina, water, whole, curd, onion, green, b...\n",
            "Name: ingredient, dtype: object  Link:  410    https://veenasvegnation.com/savoury-semolina-v...\n",
            "Name: url, dtype: object\n",
            "426    fresh tomato salsa\n",
            "Name: name, dtype: object  ingredients \n",
            " 426    [tomato, green, onion, basil, thyme, olive, pe...\n",
            "Name: ingredient, dtype: object  Link:  426    https://veenasvegnation.com/fresh-tomato-salsa/\n",
            "Name: url, dtype: object\n",
            "430    pasta al forno\n",
            "Name: name, dtype: object  ingredients \n",
            " 430    [pasta, onion, green, red, marinara, tomato, o...\n",
            "Name: ingredient, dtype: object  Link:  430    https://veenasvegnation.com/pasta-al-forno/\n",
            "Name: url, dtype: object\n",
            "431    cheesy bread rings\n",
            "Name: name, dtype: object  ingredients \n",
            " 431    [red, green, onion, tomato, coriander, mozarel...\n",
            "Name: ingredient, dtype: object  Link:  431    https://veenasvegnation.com/cheesy-bread-rings/\n",
            "Name: url, dtype: object\n",
            "432    mixed vegetable masala rice\n",
            "Name: name, dtype: object  ingredients \n",
            " 432    [brown, water, onion, beans, carrot, green, to...\n",
            "Name: ingredient, dtype: object  Link:  432    https://veenasvegnation.com/mixed-vegetable-ma...\n",
            "Name: url, dtype: object\n",
            "448    aloo mutter without onion and garlic\n",
            "Name: name, dtype: object  ingredients \n",
            " 448    [tomato, potato, fresh, green, ginger, chilli,...\n",
            "Name: ingredient, dtype: object  Link:  448    https://veenasvegnation.com/aloo-mutter-withou...\n",
            "Name: url, dtype: object\n"
          ],
          "name": "stdout"
        }
      ]
    },
    {
      "cell_type": "code",
      "metadata": {
        "id": "IwMzQuiHs7mU",
        "colab_type": "code",
        "colab": {
          "base_uri": "https://localhost:8080/",
          "height": 119
        },
        "outputId": "7da4f109-ecf1-4c74-8677-4ea4136780da"
      },
      "source": [
        "# print the highest\n",
        "index_max = max(range(len(hits)), key=hits.__getitem__)\n",
        "print(hits[index_max])\n",
        "rec = (df.loc[df['name']==recps[index_max]])\n",
        "print(rec['name'], ' ingredients \\n',rec['ingredient'], ' Link: ', rec['url'])"
      ],
      "execution_count": 18,
      "outputs": [
        {
          "output_type": "stream",
          "text": [
            "3\n",
            "124    tomato bisque\n",
            "Name: name, dtype: object  ingredients \n",
            " 124    [butter, onion, tomato, carrot, garlic, milk, ...\n",
            "Name: ingredient, dtype: object  Link:  124    https://veenasvegnation.com/recipe/tomato-bisque/\n",
            "Name: url, dtype: object\n"
          ],
          "name": "stdout"
        }
      ]
    }
  ]
}