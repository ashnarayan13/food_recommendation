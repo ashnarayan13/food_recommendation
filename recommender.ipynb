{
  "nbformat": 4,
  "nbformat_minor": 0,
  "metadata": {
    "colab": {
      "name": "Untitled3.ipynb",
      "provenance": [],
      "collapsed_sections": []
    },
    "kernelspec": {
      "name": "python3",
      "display_name": "Python 3"
    }
  },
  "cells": [
    {
      "cell_type": "code",
      "metadata": {
        "id": "aTAmG-0rxpJy",
        "colab_type": "code",
        "colab": {}
      },
      "source": [
        "import pandas as pd\n",
        "import json"
      ],
      "execution_count": 0,
      "outputs": []
    },
    {
      "cell_type": "code",
      "metadata": {
        "id": "Og9zr4_5xufh",
        "colab_type": "code",
        "colab": {}
      },
      "source": [
        "import matplotlib\n",
        "%matplotlib inline"
      ],
      "execution_count": 0,
      "outputs": []
    },
    {
      "cell_type": "code",
      "metadata": {
        "id": "hEYdIGEPx3bg",
        "colab_type": "code",
        "colab": {
          "base_uri": "https://localhost:8080/",
          "height": 151
        },
        "outputId": "479aea13-9f55-422e-9a80-ca4e5ef8725d"
      },
      "source": [
        "\n",
        "df = pd.read_json('/content/full_data_clean.json')\n",
        "\n",
        "print(df.head())"
      ],
      "execution_count": 14,
      "outputs": [
        {
          "output_type": "stream",
          "text": [
            "                                            quantity  ... difficulty\n",
            "0  [1 cup, 3  tbsp, 2 tsp, 1 tsp, 3, 1/2 tsp, 5, ...  ...       easy\n",
            "1  [1/3 cup, 1/3 cup, 1/4 cup, 1/4 cup, 5, 1 tbsp...  ...       easy\n",
            "2  [1/2 cup, 1/4 cup, 2 tsp, 1 tsp, 2 tsp, 1/4 cu...  ...     medium\n",
            "3  [1/3 cup, 1/2 cup, 2, 2 tbsp, 2 tbsp, 1/2 tsp,...  ...       easy\n",
            "4     [1, 1, 1, 1, 1, 1 tsp, 1 tsp, 2 tsp, To taste]  ...       easy\n",
            "\n",
            "[5 rows x 8 columns]\n"
          ],
          "name": "stdout"
        }
      ]
    },
    {
      "cell_type": "code",
      "metadata": {
        "id": "YAsdFtyq0s2Y",
        "colab_type": "code",
        "colab": {
          "base_uri": "https://localhost:8080/",
          "height": 134
        },
        "outputId": "08a9d658-7d71-493e-f9d5-922007129dc6"
      },
      "source": [
        "number = int(input('Enter ingredients: '))\n",
        "ing = []\n",
        "for i in range(number):\n",
        "  ing.append(input('Enter ingredient: '))\n",
        "print(ing)"
      ],
      "execution_count": 6,
      "outputs": [
        {
          "output_type": "stream",
          "text": [
            "Enter ingredients: 5\n",
            "Enter ingredient: tomato\n",
            "Enter ingredient: potato\n",
            "Enter ingredient: onion\n",
            "Enter ingredient: spinach\n",
            "Enter ingredient: curd\n",
            "['tomato', 'potato', 'onion', 'spinach', 'curd']\n"
          ],
          "name": "stdout"
        }
      ]
    },
    {
      "cell_type": "code",
      "metadata": {
        "id": "PiDfTWS94JpL",
        "colab_type": "code",
        "colab": {
          "base_uri": "https://localhost:8080/",
          "height": 54
        },
        "outputId": "b684eeb7-7057-4f9a-833f-c247994be532"
      },
      "source": [
        "# clean the ingredients\n",
        "# get all ingredients\n",
        "\n",
        "all_ingredients = set()\n",
        "for index, row in df.iterrows():\n",
        "  data = row['ingredient']\n",
        "  for i in data:\n",
        "    if len(i):\n",
        "      all_ingredients.add(i)\n",
        "print(all_ingredients)"
      ],
      "execution_count": 17,
      "outputs": [
        {
          "output_type": "stream",
          "text": [
            "{'cowpeas', 'ice cubes', 'pepper corns', 'berries', 'cornflour', 'grated carrot', 'raisins', 'processed rice flour', 'big eggplant', 'moong', 'hershey', 'whole wheat flour', 'white', 'roasted cumin powder', 'broken', 'low fat yogurt', 'rasavangi', 'salt\\n  ', 'rice flakes', 'mint/coriander', 'water', 'black cardamom', 'turmeric powder', 'curds', 'sprouted moong beans', 'cajun spice powder', 'butter ', 'chocolate', 'peppercorns', 'green chiilies', 'carrot (grated)', 'turmeric', 'corn', 'thin', 'aubergine', 'corn flour', 'gram masala', 'parsley', 'luke warm water', 'fresh pitted cherries', 'lychee', 'narthangai/citron\\xa0 ', 'italian', 'tomato sauce', 'jeera', 'mint leaves', 'orange juice', 'mayo ', 'sour', 'green gram dal', 'dried cranberries', 'clove powder', 'cooked rice vermicelli', 'chickpea vegetable salad', 'red bell pepper', 'whipping', 'methi daana / fenugreek seeds', 'pistachio', 'fresh mint(cut finely)', 'chilli sauce', 'hung', 'red chilli', 'red chiily', 'tutty', 'black carrot', 'all', 'red chilli powder', 'urad dal/ black gram dal', 'beetroot', 'ponni', 'ridge gourd', 'byadagi chillies', 'fresh coconut', 'ginger powder', 'strawberries', 'black gram dal', 'chilli', 'watermelon', 'bayleaf', 'salt biscuits', 'bajra flour', 'castor sugar', 'zucchini', 'oil(for boiling the gnocchi)', 'mustard seeds', 'dried kiwi', 'almomds', 'cold water', 'sago', 'cucumber(cut', 'bread crumbs', 'chopped coriander leaves', 'toasted sesame', 'dry red chillies', 'dark chocolate', 'apple butter', 'kala', 'instant', 'lime juice', 'mango cubes ', 'cold milk', 'yogurt', 'bread', 'pudina /mint', 'instant puliyogare mix', 'sliced nuts', 'finger millet', 'cane', 'roasted peanut', 'candied ginger', 'salt', 'fresh neem flower', 'red lentil / masoor dal', 'ccoconut', 'saffron', 'coriander leaves', 'brown chickpeas/ kala channa', 'ice', 'godumai', 'olive', 'apple', 'oil ', 'apple cider vinegar', 'finger millet flour', 'broccoli', 'idli batter', 'fresh green peas', 'colourful sprinkles', 'pineapple pieces', 'bengal gram dhal', 'phool makhana', 'bengal gram', 'thick coconut milk ', 'baked', 'palak', 'sundried tomatoes', 'whole', 'soda', 'tomato ', 'tender coconut water', 'cold', 'tender drumsticks', 'red', 'chiili flakes', 'coriander seeds', 'soya sauce', 'orange carrot', 'marinara sauce', 'dried', 'lettuce(shredded)', 'chilliflakes', 'soda water', 'nutmeg powder', 'medium', 'musk', 'dessicated coconut', 'paneer', 'fenugreek', 'chaat', 'vegetable', 'thinai', 'boiled mixed vegetables', 'coldmilk', 'fresh fenugreek seeds', 'omavalli illai', 'boiled potato', 'eno fruit salt', 'milkmaid', 'pulp of tender coconut', 'onion (big)', 'millet flour', 'luke warm milk', 'cocoa  powder', 'sun dried tomato', 'hot ghee', 'green gram dal/ moong dal', 'urad dal / black gram dal', 'sattu flour', 'green cardamom', 'black seedless grapes', 'apple(cored', 'warm', 'milk(hot)', 'vanilla ', 'bay;eaf', 'walnuts', 'violet', 'cinnamon\\n  ', 'pistachios', 'tuvar dal ', 'coarsely', 'ginger grated', 'sesame seeds / til', 'yellow pepper', 'cumber', 'panner', 'sago / javvarisi', 'mango pulp', 'potato(small)', 'slat', 'cherry tomatoes(halved)', 'rasam', 'warm water', 'mixed fruit jan', 'wheat flour', 'chatotha leaves', 'poppy', 'granulated sugar', 'apple juice', 'bengal', 'spinach/palak', 'kodo millet / varagu', 'eggs', 'egg plant', 'besan', 'ghee', 'ommam/ajwain', 'fenugreek powder', 'pruppu keerai', 'sorakkai/ bottile gourd', 'cinnamon stick', 'chocolate cups', 'milk to soak the saffron', 'pumpkin', 'cheese', 'red chilles', 'moong dal / paasi paruppu', 'thyme', 'green chilly', 'blackgram dal', 'tuvar', 'masoor', 'fresh peas', 'ginger', 'chocolate chips', 'par', 'ground almonds', 'banyard', 'moong dal', 'green chiily', 'coffee', 'melted', 'milk powder', 'vanilla essence', 'pepper', 'rava / semolina', 'almonds', 'amchur', 'ghee ', 'thick coconut milk', 'butter(melted)', 'melted butter', 'curd ', 'beet greens', 'fennel seeds / saunf', 'shah', 'ginger garlic paste', 'spring onion greens', 'fresh green chickpeas', 'butter milk', 'cocoa powder', 'chilli powder', 'cardamom ppowder', 'rose essence', 'pears(cored', 'payathanga', 'tomato', 'papaya(chopped)', 'gram', 'mexican', 'milk+ water', 'corainder', 'lemon juice', 'cabbage', 'shredded cabbage', 'feta cheese', 'orange', 'gram flour', 'varagu arisi flour', 'chana dal', 'italian sesaonings', 'gram dal/ kadalebele', 'karamudhu podi', 'fenugreek seeds', 'thick red beaten rice/red poha/red aval', 'cooked', 'sesame seeds', 'dark chocolate chips', 'bitter', 'amchoor', 'guava', 'pear', 'green chillies ', 'instant coffee', 'fine', 'grated ginger', 'gulab jamun', 'gooseberries', 'sugar', 'garlic(grated)', 'active dry yeast', 'cream cheese', 'maize', 'buttermilk', 'paruppu', 'cream', 'thin poha', 'bell', 'vanilla essense', 'instant yeast', 'glazed cherries', 'cauliflower florets', 'cury leaves', 'strawberry', 'vegetable oil', 'dried apricots', 'kayi saasve paste', 'chiili', 'toasted sesame seeds', 'capsicum', 'cashew(soaked', 'cloves', 'fresh strawberries', 'coriander powder', 'carrots', 'fresh coriander( cut finely)', 'onion\\n  ', 'small', 'karamani/ black eyed peas', 'tomato(medium', 'mustard', 'yellow capsicum(cut finely)', 'walnut', 'condensed milk', 'saffron strands ', 'garlic ', 'ragi flour', ' whole urad gram dal', 'condensed', 'cuminseeds', 'kasuri methi', 'chickpeas/ channa', 'black', 'lemon zest', 'rede chilli powder', 'warm milk', 'orange blossom water', 'green chilli ', 'avarekaalu', 'sesame oil', 'murunga keerai / drumstick leaves', 'papaya', 'dry', 'drumstick leaves', 'brinjal', 'lady', 'little', 'dried red chillies', 'golden', 'ginger(shredded)', 'wtaer', 'coking', 'green chilies', 'salt ', 'puff pastry sheets', 'soft butter', 'methi', 'yellow food colour', 'diced green bell pepper', 'potato', 'corinader powder', 'green', 'coarsely powdered peanuts', 'boiled', 'cashew powder', 'beet', 'ripe peaches', 'bengalgram dal', 'watermelon cubes', 'mango ginger', 'paprika', 'red chilly powder', 'paprika powder', 'curry leaves', 'fresh orange juice', 'potatoes', 'vanilla extract', 'rice noodles', 'spring onions( cut finely)', 'star anise', 'raw mangoes', 'frozen', 'lemonjuice', 'strawberry icecream', 'pomegranate', 'raw rice', 'clarified butter', 'dark', 'jaggery', 'carom seeds', 'garlic', 'thyme ', 'raw rice ', 'crushpeanuts', 'rose essense', 'fresh curd', 'guntur red hillies', 'dry ginger powder', 'cauliflower', 'foxtail millet', 'samai/ little millet', 'brown', 'ridge', 'sesame', 'unsalted butter', 'sev', 'vegetable stock/water', 'ginger(cut', 'thin tamarind extract', 'ground cumin', 'mozarella', 'marinara', 'cocoa', 'cashew', 'orange marmalade', 'pasta', 'nutella', 'fresh methi/ fenugreek leaves', 'sabza seeds/ basil seeds', 'carrot (cubed)', 'chickpeas', 'beans8', 'butter', 'water melon cubes', 'ener g egg replacer', 'gothsu podi', 'kasuri', 'brown butter', 'muskmelon', 'red chillis', 'ajwain', 'cowpeas/karamani', 'white sugar', 'whole green moong', 'all pupose flour', 'peas(boiled)', 'strawberries(chopped)', 'peppper', 'melted and cooled butter', 'semiya', 'banan', 'soy sauce', 'instant puliyogare powder', 'hung curd', 'persimmon', 'nylon vermicelli', 'pepper ', 'jowar grits', 'daniya/ coriander seeds', 'cumin', 'ferroro rocher', 'egg', 'oil', 'daniya', 'mini gulab jamun', 'fresh butter beans', 'peaches', 'poppy seeds', 'whipping cream', 'black pepper powder', 'cimmamon', 'ripe papaya', 'vegetables(beans,', 'toor dal', 'legiyam', 'baking soda', 'samba rava', 'slivered almonds', 'green chillies', 'cinnamom', 'roasted peanuts', 'coconut milk', 'amchur powder', 'roasted', 'carrot', 'cumin seeds', 'saunf/fennel seeds', 'butter scotch essence', 'beans', 'green gram sprouts', 'grated jaggery', 'urad dhal', 'passion fruit', 'mixed', 'salted', 'cadbury nutties', 'light corn syrup', 'honey', 'garam masala', 'quinoa', 'cucumber(small)', 'ripe mango', 'oregano', 'marinara ', 'boiling', 'paneer/cottage cheese', 'seedless', 'barnyard millet/ kuthiraivali ', 'vanilla', 'pepper corn', 'english mustard sauce', 'red capsicum( cut finely)', 'white sesame seeds', 'green beans', 'ripe', 'strawberry(chopped)', 'urad', 'baking', 'fresh grated coconut', 'nectarine', 'turmeric owder', 'salt(for boiling the gnocchi)', 'panch poran', 'dhaniya', 'bell pepper(cubed)', 'all-purpose', 'mozarella cheese', 'chopped', 'murunga keerai spice podi', 'spinach', 'chat', '\\xa0raw rice', 'kadalai paruppu', 'besan/gram flour', 'chia seeds', 'spinach / palak', 'pepper powder', 'chironji', 'quinoa flakes', 'milk\\n  ', 'red pepper', 'glazed', 'ladyfinger / bhendi', 'rava/ sooji', 'spring onion', 'asafoetida/ hing', 'pumpkin ', 'grated zest', 'candied fruits', 'peeled and deseeded lychee', 'basil', 'mixed vegetables', 'dragon fruit', 'avarekalu', 'bechamal sauce', 'green chilli', 'oreo', 'saffron strands', 'green gram dhal', 'cherry tomatoes', 'canned chickpeas', 'olive oil/ghee', 'cinnamon powder', 'kiwi', 'turmeric powder ', 'rose syrup', 'mozzarella', 'suagr', 'ripe peach', 'coconut oil', 'pesto', 'all purpose flour', 'caradmom powder', 'tea', 'methi leaves', 'roasted gram', 'fresh', 'herbs', 'fennel seeds', 'onions', 'egg plant (big)', 'fenugreek seed powder', 'red chillies', 'moringa leaves powder', 'pav bhaji masala', 'chlled milk', 'small banana', 'brown sugar', 'nellikai(big', 'peanuts', 'tender banan leaves', 'gram flour / besan', 'currants', 'nuts(as', 'hershey kisses', 'saffron ', 'basmati', 'full cream milk', 'gluten', 'fresh basil', 'rice flour', 'kasuri  methi', 'palak/spinach', 'tuvar dal', 'fresh ripe jackfruit', 'instant yest', 'sambhar', 'wholewheat flour', 'unknown', 'tomatoes', 'sourdough starter', 'lemon', 'tomato puree', 'salt(', 'shallots', 'cashew\\n  ', 'figs', 'betel', 'fine semolina', 'bell pepper', 'chillipowder', 'fresh aavarampoo', 'benagl gram dal', 'dried basil', 'active', 'urad dal flour', 'javitri', 'fennel', 'chikpea flour/besan', 'thinai maavu', 'pudina/ mint leaves', 'sweet', 'asafoetida', 'avocado', 'vital', 'carom', 'mor', 'banana stem', 'mustard sauce', 'honey(optional)', 'semi', 'gingelly oil', 'bay leaves', 'rajma / kidney beans', 'kodo millet', 'mint keaves', 'clove', 'green gram dal / moong dal ', 'pineapple(cut', 'hot', 'olives', 'starter', 'eggs ', 'bittergourd', 'drumstick', 'beetroot( grated)', 'cardamom', 'sweet corn kernels', 'fresh turmeric', 'garlic paste', 'crushed', 'fresh coriander', 'tuvar dhal', 'almond flour', 'lukewarm water', 'powdered sugar', 'chilli flakes', 'water ', 'red chilly', 'curd/yogurt', 'asfoetida', 'pineapple', 'daniya powder', 'cherrytomato', 'tuttifrutti', 'lemon ', 'betel leaves', 'nutmeg', 'bitter gourd', 'sumac', 'eggplants/ kathrikai', 'rose petals', 'ragi vermicelli', 'fresh cream', 'ponk /green jowar', 'pulp', 'kala namak/ pink salat', 'green peas', 'almond milk', 'dessicated', 'milk', 'ghee/coconut', 'gulkhand', 'peanut powder', 'paneer/feta', 'mangoes', 'small ripe banana', 'kalonji', 'semi sweet chocolate chips', 'methi seeds', 'icing sugar', 'diced cucumber', 'orange peel', 'bay', 'roasted gram dal', 'green moong', 'apples', 'moringa leaves/ murunga keerai', 'rock salt', 'bajra', 'tuvar dal / tuvaram paruppu', 'pomegranate pearls', 'plum', 'mint', 'grated coconut', 'meetha pan masala', 'garam masala ', 'club', 'rice', 'semolina/ rava', 'ripe java plum/ jamun', 'barnyard', 'chat masala', 'ginger chilli paste', 'fresh coconut scrapping', 'milk +oil', 'jam', 'pachai kalpuram', 'caramel syrup', 'tea powder', 'colocasia leaves', 'blackgram', 'caramom', 'curd', 'caramel', 'broken green gram dal with skin', 'must melon cubes', 'green gram dal ', 'egg whites', 'cooking oil', 'diced carrot', 'goda masala', 'milagu / pepper', 'tofu', 'golden raisins', 'pineapple(cubed)', 'egg free mayanaisse', 'channa dal/bengal gram dal', 'dried basil powder', 'hot water', 'masoor dal', 'green  raw chickpea', 'bay leaf', 'gram dal', 'instant coffee powder', 'oil\\n  ', 'par boiled rice', 'broken black gram with skin', 'dosai batter', 'heavy cream ', 'sliced pistachios', 'cardamom powder', 'grated', 'toasted nuts', 'plaintain', 'khus', 'tamarind paste', 'grated zucchini', 'tomato\\n  ', 'sundried tomato', 'gingelly', 'onion', 'powdered', 'karpuravalli', 'fresh coconut flour', 'luke', 'vanilla icecream', 'brocolli florets', 'baking powder', 'proso millet', 'garam', 'coconut', 'heavy cream(non diary)', 'coriander seeds / daniya', 'rava', 'raw mango', 'unsweetened cocoa powder', 'tamarind pulp', 'chaat masala', 'pottukadalai/fried', 'cinnamon', 'red pepper sauce', 'green bell pepper', 'sago/javvarisi', 'pav', 'curry', 'chocolates and cherries', 'coriander', 'mint/pudina', 'peas', 'flour', 'mustard seeds ', 'melon/magaz seeds', 'semolina', 'baby', 'panch poren', 'raw', 'urad dal', 'coarsely ground nuts', 'jaggery powder', 'red chilies', 'horsegram/kollu', 'asafoetida ', 'fresh cococnut', 'tortillas', 'orange zest', 'gulkand', 'tutti fruitty', 'zucchini ', 'dates', 'almond meal', 'oats', 'thick yogurt/curd', 'thick', 'daniya ', 'ripe banana', 'grated cucumber', 'jeera powder', 'bengal gram dal', 'tamarind', 'cucumber', 'alphonso', 'vinegar', 'strong coffee', 'banana', 'ivy gourd/ kovakkai/ tondli', 'blanched almonds', 'olive oil', 'full', 'oats flakes', 'mango', 'freshly grated coconut', 'ripe avocado', 'dried grated coconut', 'toor', 'cumin powder', 'subja seeds'}\n"
          ],
          "name": "stdout"
        }
      ]
    },
    {
      "cell_type": "code",
      "metadata": {
        "id": "DZDQ9U6U0vYS",
        "colab_type": "code",
        "colab": {
          "base_uri": "https://localhost:8080/",
          "height": 34
        },
        "outputId": "f10f5cf1-d984-4e4f-eb6c-67b254f7b90f"
      },
      "source": [
        "highest = 0\n",
        "min_len = int(len(ing)/2)\n",
        "print(min_len)\n",
        "recps = []\n",
        "for index, row in df.iterrows():\n",
        "  S1 = set(row['ingredient'])\n",
        "  S2 = set(ing)\n",
        "  intersect = len(S1.intersection(S2))\n",
        "  if intersect>=min_len:\n",
        "    if intersect > highest:\n",
        "      highest = intersect\n",
        "    recps.append(row['name'])"
      ],
      "execution_count": 22,
      "outputs": [
        {
          "output_type": "stream",
          "text": [
            "2\n"
          ],
          "name": "stdout"
        }
      ]
    },
    {
      "cell_type": "code",
      "metadata": {
        "id": "TQe435sP_osA",
        "colab_type": "code",
        "colab": {
          "base_uri": "https://localhost:8080/",
          "height": 1000
        },
        "outputId": "e7941624-b87c-487a-db5c-22ff4353dde5"
      },
      "source": [
        "print(recps)\n",
        "print(highest)\n",
        "output_recipes = []\n",
        "for i in recps:\n",
        "  temp = (df.loc[df['name']==i])\n",
        "  output_recipes.append(temp)\n",
        "print('There are ', len(output_recipes), ' recipes possible')\n",
        "for rec in output_recipes:\n",
        "  print(rec['ingredient'])"
      ],
      "execution_count": 31,
      "outputs": [
        {
          "output_type": "stream",
          "text": [
            "['rajasthani dal dhokli in nutripot', 'nutri-pot rajma masala', 'nutri-pot dal with beet greens', 'tangy sweet corn chat', 'pegan spinach broccoli soup in instapot', 'fresh green channa chat / hara channa chaat', 'kaddu ki sabzi', 'ponk salad/ green jowar salad', 'tomato onion chutney', 'finger millet pasta in marinara sauce', 'green peas ambti', 'papdi canape chaat', 'vegetable kolhapuri -a recipe from tarla dalal', 'saag paneer restaurant style', 'cabbage chutney', 'vegan nicoise salad', 'tomato bisque', 'palak paneer soup', 'dal tadka-dhaba style', 'chat masala flavoured chickpea pomegranate salad', 'pav bhaji dip -an exotic indian flavoured dip', 'murugan idli shop daniya chutney', 'madras ratna cafe sambhar', 'broccoli spinach coconut soup', 'creamy  sprouted moong subzi', 'instant rava appe', 'green peas masala in pressure cooker', 'avocado tomato salad', 'dal tadka', 'mutter ka nimona', 'vegetable bajra sevai / kambu sevai', 'fresh tuvar curry', 'lobia masala curry / karamani masala curry', 'paneer spinach balls', 'spicy vegetable sandwich', 'spicy corn curry', 'vegetable and baked bean quesadilla', 'savoury semolina vegetable bake', 'fresh tomato salsa', 'pasta al forno', 'cheesy bread rings', 'mixed vegetable masala rice', 'aloo mutter without onion and garlic']\n",
            "2\n",
            "There are  43  recipes possible\n",
            "2    [wheat flour, gram flour, kasuri  methi, chill...\n",
            "Name: ingredient, dtype: object\n",
            "5    [rajma / kidney beans, onion, tomato, green ch...\n",
            "Name: ingredient, dtype: object\n",
            "7    [onion, tomato, beet greens, tuvar dal, moong ...\n",
            "Name: ingredient, dtype: object\n",
            "13    [sweet corn kernels, onion, tomato, oil, turme...\n",
            "Name: ingredient, dtype: object\n",
            "45    [spinach, broccoli, bay leaf, garlic, coconut ...\n",
            "Name: ingredient, dtype: object\n",
            "49    [fresh green chickpeas, onion, tomato, cucumbe...\n",
            "Name: ingredient, dtype: object\n",
            "61    [pumpkin, onion, oil, mustard seeds, cumin see...\n",
            "Name: ingredient, dtype: object\n",
            "62    [ponk /green jowar, onion, tomato, green chill...\n",
            "Name: ingredient, dtype: object\n",
            "76    [onion, tomato, green chilly, garlic, ginger, ...\n",
            "Name: ingredient, dtype: object\n",
            "77    [finger millet, onion, tomato, mixed vegetable...\n",
            "Name: ingredient, dtype: object\n",
            "83    [fresh green peas, onion, tomato, coriander se...\n",
            "Name: ingredient, dtype: object\n",
            "95    [chikpea flour/besan, wholewheat flour, oil, r...\n",
            "Name: ingredient, dtype: object\n",
            "101    [boiled mixed vegetables, onion, tomato, garam...\n",
            "Name: ingredient, dtype: object\n",
            "103    [palak, paneer, onion, tomato, turmeric powder...\n",
            "Name: ingredient, dtype: object\n",
            "117    [cabbage, onion, tomato, green chillies, red c...\n",
            "Name: ingredient, dtype: object\n",
            "123    [potato, cherry tomatoes(halved), green beans,...\n",
            "Name: ingredient, dtype: object\n",
            "124    [butter, onion, tomato, carrot, garlic, milk, ...\n",
            "Name: ingredient, dtype: object\n",
            "138    [spinach, onion, garlic, garam masala , salt, ...\n",
            "Name: ingredient, dtype: object\n",
            "159    [tuvar dal, bengal gram dal, ghee, onion, toma...\n",
            "Name: ingredient, dtype: object\n",
            "160    [brown chickpeas/ kala channa, onion, tomato, ...\n",
            "Name: ingredient, dtype: object\n",
            "172    [onion, capsicum, tomato, carrot, beans, peas,...\n",
            "Name: ingredient, dtype: object\n",
            "175    [coriander seeds, black gram dal, bengal gram ...\n",
            "Name: ingredient, dtype: object\n",
            "176    [urad dal, red chillies, coriander seeds, fenu...\n",
            "Name: ingredient, dtype: object\n",
            "214    [brocolli florets, spinach, onion, green chill...\n",
            "Name: ingredient, dtype: object\n",
            "226    [sprouted moong beans, onion, tomato, chilli p...\n",
            "Name: ingredient, dtype: object\n",
            "256    [rava, curd, gram, onion, green, asafoetida, c...\n",
            "Name: ingredient, dtype: object\n",
            "261    [fresh, onion, tomato, coriander, cumin, garam...\n",
            "Name: ingredient, dtype: object\n",
            "281    [avocado, onion, tomato, cucumber, olive, pepp...\n",
            "287    [avocado, cumber, cherrytomato, salt, olive, p...\n",
            "Name: ingredient, dtype: object\n",
            "339    [tuvar, masoor, onion, tomato, green, cinnamon...\n",
            "Name: ingredient, dtype: object\n",
            "346    [fresh, onion, tomato, cumin, ginger, green, c...\n",
            "Name: ingredient, dtype: object\n",
            "357    [bajra, onion, tomato, capsicum, carrot, beans...\n",
            "Name: ingredient, dtype: object\n",
            "359    [fresh, onion, tomato, green, oil, cumin, cori...\n",
            "Name: ingredient, dtype: object\n",
            "366    [cowpeas/karamani, cumin, onion, tomato, ginge...\n",
            "Name: ingredient, dtype: object\n",
            "369    [panner, spinach, potato, green, red, garam, c...\n",
            "Name: ingredient, dtype: object\n",
            "386    [bread, onion, tomato, green, carrot, italian,...\n",
            "Name: ingredient, dtype: object\n",
            "387    [sweet, cumin, carrot, beans, onion, tomato\\n ...\n",
            "Name: ingredient, dtype: object\n",
            "391    [tortillas, baked, onion, tomato, green, mozza...\n",
            "Name: ingredient, dtype: object\n",
            "411    [semolina, water, whole, curd, onion, green, b...\n",
            "Name: ingredient, dtype: object\n",
            "427    [tomato, green, onion, basil, thyme, olive, pe...\n",
            "Name: ingredient, dtype: object\n",
            "431    [pasta, onion, green, red, marinara, tomato, o...\n",
            "Name: ingredient, dtype: object\n",
            "432    [red, green, onion, tomato, coriander, mozarel...\n",
            "Name: ingredient, dtype: object\n",
            "433    [brown, water, onion, beans, carrot, green, to...\n",
            "Name: ingredient, dtype: object\n",
            "449    [tomato, potato, fresh, green, ginger, chilli,...\n",
            "Name: ingredient, dtype: object\n"
          ],
          "name": "stdout"
        }
      ]
    }
  ]
}