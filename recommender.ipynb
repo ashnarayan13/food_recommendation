{
  "nbformat": 4,
  "nbformat_minor": 0,
  "metadata": {
    "colab": {
      "name": "Untitled3.ipynb",
      "provenance": [],
      "collapsed_sections": [],
      "include_colab_link": true
    },
    "kernelspec": {
      "name": "python3",
      "display_name": "Python 3"
    }
  },
  "cells": [
    {
      "cell_type": "markdown",
      "metadata": {
        "id": "view-in-github",
        "colab_type": "text"
      },
      "source": [
        "<a href=\"https://colab.research.google.com/github/ashnarayan13/food_recommendation/blob/store-data/recommender.ipynb\" target=\"_parent\"><img src=\"https://colab.research.google.com/assets/colab-badge.svg\" alt=\"Open In Colab\"/></a>"
      ]
    },
    {
      "cell_type": "code",
      "metadata": {
        "id": "aTAmG-0rxpJy",
        "colab_type": "code",
        "colab": {}
      },
      "source": [
        "import pandas as pd\n",
        "import json"
      ],
      "execution_count": 0,
      "outputs": []
    },
    {
      "cell_type": "code",
      "metadata": {
        "id": "Og9zr4_5xufh",
        "colab_type": "code",
        "colab": {}
      },
      "source": [
        "import matplotlib\n",
        "%matplotlib inline"
      ],
      "execution_count": 0,
      "outputs": []
    },
    {
      "cell_type": "code",
      "metadata": {
        "id": "hEYdIGEPx3bg",
        "colab_type": "code",
        "outputId": "e0c78428-ce62-4e50-f433-ab493a34c132",
        "colab": {
          "base_uri": "https://localhost:8080/",
          "height": 151
        }
      },
      "source": [
        "\n",
        "df = pd.read_json('/content/full_data_clean.json')\n",
        "\n",
        "print(df.head())"
      ],
      "execution_count": 4,
      "outputs": [
        {
          "output_type": "stream",
          "text": [
            "                                            quantity  ... difficulty\n",
            "0  [1 cup, 3  tbsp, 2 tsp, 1 tsp, 3, 1/2 tsp, 5, ...  ...       easy\n",
            "1  [1/3 cup, 1/3 cup, 1/4 cup, 1/4 cup, 5, 1 tbsp...  ...       easy\n",
            "2  [1/2 cup, 1/4 cup, 2 tsp, 1 tsp, 2 tsp, 1/4 cu...  ...     medium\n",
            "3  [1/3 cup, 1/2 cup, 2, 2 tbsp, 2 tbsp, 1/2 tsp,...  ...       easy\n",
            "4     [1, 1, 1, 1, 1, 1 tsp, 1 tsp, 2 tsp, To taste]  ...       easy\n",
            "\n",
            "[5 rows x 8 columns]\n"
          ],
          "name": "stdout"
        }
      ]
    },
    {
      "cell_type": "code",
      "metadata": {
        "id": "YAsdFtyq0s2Y",
        "colab_type": "code",
        "outputId": "b4d60886-6af3-449a-a2b1-fc3cb9833807",
        "colab": {
          "base_uri": "https://localhost:8080/",
          "height": 134
        }
      },
      "source": [
        "number = int(input('Enter ingredients: '))\n",
        "ing = []\n",
        "for i in range(number):\n",
        "  ing.append(input('Enter ingredient: '))\n",
        "print(ing)"
      ],
      "execution_count": 5,
      "outputs": [
        {
          "output_type": "stream",
          "text": [
            "Enter ingredients: 5\n",
            "Enter ingredient: potato\n",
            "Enter ingredient: tomato\n",
            "Enter ingredient: spinach\n",
            "Enter ingredient: onion\n",
            "Enter ingredient: dal\n",
            "['potato', 'tomato', 'spinach', 'onion', 'dal']\n"
          ],
          "name": "stdout"
        }
      ]
    },
    {
      "cell_type": "code",
      "metadata": {
        "id": "PiDfTWS94JpL",
        "colab_type": "code",
        "outputId": "71aaedf8-804f-4a30-eeaa-aba2fb0f6109",
        "colab": {
          "base_uri": "https://localhost:8080/",
          "height": 54
        }
      },
      "source": [
        "# clean the ingredients\n",
        "# get all ingredients\n",
        "\n",
        "all_ingredients = set()\n",
        "for index, row in df.iterrows():\n",
        "  data = row['ingredient']\n",
        "  for i in data:\n",
        "    if len(i):\n",
        "      all_ingredients.add(i)\n",
        "print(all_ingredients)\n"
      ],
      "execution_count": 6,
      "outputs": [
        {
          "output_type": "stream",
          "text": [
            "{'fresh butter beans', 'omavalli illai', 'sesame seeds / til', 'honey', 'mint/pudina', 'methi leaves', 'bell', 'drumstick', 'cooked rice vermicelli', 'pears(cored', 'heavy cream(non diary)', 'amchur powder', 'tomato sauce', 'fresh mint(cut finely)', 'chopped', 'oreo', 'salt ', 'mustard seeds', 'raw rice', 'thick yogurt/curd', 'black carrot', 'papaya(chopped)', 'coconut oil', 'whipping cream', 'cadbury nutties', 'grated coconut', 'pasta', 'thin poha', 'brown sugar', 'onions', 'marinara', 'bengal gram', 'red chilly', 'gingelly', 'samai/ little millet', 'dark chocolate chips', 'cimmamon', 'nectarine', 'blackgram dal', 'rasam', 'rose essence', 'hershey', 'karpuravalli', 'mixed', 'hershey kisses', 'melted', 'beans8', 'muskmelon', 'cherry tomatoes', 'pudina/ mint leaves', 'fresh neem flower', 'soft butter', 'cheese', 'chaat masala', 'samba rava', 'black pepper powder', 'figs', 'quinoa flakes', 'shredded cabbage', 'tender drumsticks', 'ginger garlic paste', 'javitri', 'cocoa  powder', 'bay', 'carom seeds', 'ripe peaches', 'chillipowder', 'mexican', 'whipping', 'ripe peach', 'instant coffee', 'crushpeanuts', 'cuminseeds', 'baking powder', 'gram flour', 'nuts(as', 'dried kiwi', 'coconut milk', 'kalonji', 'garlic(grated)', 'orange zest', 'pepper corn', 'onion (big)', 'turmeric owder', 'oil ', 'red', 'pepper ', 'semi', 'caramel syrup', 'fresh methi/ fenugreek leaves', 'papaya', 'ridge', 'egg plant', 'ripe mango', 'ghee ', 'cashew(soaked', 'chocolate cups', 'roasted', 'feta cheese', 'cocoa powder', 'dry red chillies', 'cocoa', 'medium', 'garlic', 'avarekalu', 'salt biscuits', 'peanut powder', 'fresh pitted cherries', 'all pupose flour', 'cinnamon powder', 'curds', 'sundried tomatoes', 'watermelon cubes', 'gram masala', 'frozen', 'bay leaf', 'cinnamon', 'spinach / palak', 'passion fruit', 'banyard', 'all-purpose', 'pistachios', 'urad dal', 'mango cubes ', 'thick coconut milk', 'orange juice', 'green gram dal / moong dal ', 'tuvar', 'sorakkai/ bottile gourd', 'cherrytomato', 'roasted gram', 'bechamal sauce', 'dry', 'fresh green chickpeas', 'spring onions( cut finely)', 'bayleaf', 'tutty', 'idli batter', 'broken black gram with skin', 'tea powder', 'caradmom powder', 'thinai maavu', 'soda', 'pear', 'seedless', 'lemon', 'strawberries(chopped)', 'oil(for boiling the gnocchi)', 'suagr', 'red chilles', 'fennel seeds / saunf', 'fenugreek seed powder', 'plum', 'lady', 'pepper powder', 'water', 'ferroro rocher', 'chickpeas', 'mint', 'vanilla essense', 'millet flour', 'moong dal', 'instant puliyogare mix', 'paneer/feta', 'vital', 'pottukadalai/fried', 'almonds', 'peanuts', 'zucchini ', 'rose essense', 'red bell pepper', 'rice noodles', 'vegetable', 'warm water', 'poppy seeds', 'alphonso', 'jowar grits', 'saffron ', 'bajra', 'oats flakes', 'khus', 'ragi vermicelli', 'gulkhand', 'ground almonds', 'buttermilk', 'vinegar', 'vegetable oil', 'sesame', 'urad dal flour', 'gram dal/ kadalebele', 'paprika powder', 'glazed cherries', 'thin', 'fresh coconut flour', 'chia seeds', 'jam', 'chat', 'green gram dal ', 'tomato', 'chana dal', 'italian sesaonings', 'urad dal / black gram dal', 'sliced pistachios', 'red chilli powder', 'nutella', 'green  raw chickpea', 'spinach/palak', 'broken', 'par boiled rice', 'black seedless grapes', 'curd', 'kodo millet / varagu', 'chatotha leaves', 'caramom', 'daniya ', 'panner', 'cumin powder', 'corn flour', 'oats', 'fresh curd', 'chickpeas/ channa', 'unknown', 'nellikai(big', 'brocolli florets', 'egg', 'colocasia leaves', 'condensed milk', 'tomato puree', 'soya sauce', 'raw mangoes', 'thin tamarind extract', 'toor', 'mozzarella', 'ripe papaya', 'yellow food colour', 'olive', 'aubergine', 'rajma / kidney beans', 'toor dal', 'diced carrot', 'pumpkin ', 'mor', 'tuttifrutti', 'yellow capsicum(cut finely)', 'tofu', 'bay;eaf', 'semi sweet chocolate chips', 'green chilly', 'ommam/ajwain', 'tuvar dhal', 'bell pepper', 'cooked', 'tutti fruitty', 'milk(hot)', 'pav bhaji masala', 'saunf/fennel seeds', 'dark chocolate', 'ivy gourd/ kovakkai/ tondli', 'ginger(shredded)', 'thyme ', 'raw', 'chilli sauce', 'plaintain', 'candied fruits', 'powdered sugar', 'raisins', 'all purpose flour', 'sago', 'dried basil', 'green chillies ', 'payathanga', 'corinader powder', 'thick', 'dragon fruit', 'mint leaves', 'hung', 'sago/javvarisi', 'peppercorns', 'persimmon', 'bay leaves', 'paruppu', 'watermelon', 'almond flour', 'diced green bell pepper', 'ice cubes', 'apples', 'all', 'grated zest', 'green gram dal/ moong dal', 'boiled', 'finger millet flour', 'salt(', 'grated zucchini', 'pineapple', 'fresh cococnut', 'fresh orange juice', 'ginger powder', 'zucchini', 'dhaniya', 'benagl gram dal', 'mixed vegetables', 'tamarind pulp', 'godumai', 'cowpeas', 'cabbage', 'blanched almonds', 'bitter gourd', 'unsalted butter', 'garam', 'rice', 'potato(small)', 'green chilies', 'cucumber(small)', 'cumber', 'turmeric', 'powdered', 'cardamom', 'hot ghee', 'vanilla icecream', 'tortillas', 'eggplants/ kathrikai', 'betel', 'rose syrup', 'paneer/cottage cheese', 'red chilies', 'green moong', 'golden', 'honey(optional)', 'broken green gram dal with skin', 'olives', 'fresh green peas', 'baking', 'besan', 'fresh cream', 'chilliflakes', 'orange', 'shallots', 'tuvar dal', 'pepper', 'milk\\n  ', 'mustard seeds ', 'salt(for boiling the gnocchi)', 'orange peel', 'coriander', 'butter ', 'tender coconut water', 'roasted peanuts', 'vanilla extract', 'black gram dal', 'coldmilk', 'fenugreek powder', 'ponni', 'club', 'vanilla ', 'semiya', 'rice flakes', 'fennel', 'moong', 'masoor dal', 'rava', 'cucumber(cut', 'subja seeds', 'coarsely ground nuts', 'green gram dhal', 'shah', 'rice flour', 'thick red beaten rice/red poha/red aval', 'varagu arisi flour', 'chironji', 'saffron', 'kodo millet', 'green chillies', 'mozarella', 'gram flour / besan', 'slat', 'carrot (grated)', 'rava/ sooji', 'ginger(cut', 'sabza seeds/ basil seeds', 'dessicated', 'ragi flour', 'curry leaves', 'tamarind', 'butter(melted)', 'grated jaggery', 'ginger grated', 'mayo ', 'red chiily', 'whole', 'lemon juice', 'dessicated coconut', 'glazed', 'strawberry icecream', 'green', 'small ripe banana', 'rava / semolina', 'carom', 'cashew', 'roasted peanut', 'chocolate', 'dried cranberries', 'tuvar dal / tuvaram paruppu', 'cashew\\n  ', 'strawberries', 'semolina/ rava', 'salt', 'puff pastry sheets', 'full cream milk', 'cane', 'basil', 'clove', 'poppy', 'chat masala', 'mangoes', 'pulp', 'kala namak/ pink salat', 'marinara ', 'carrot', 'fresh ripe jackfruit', 'condensed', 'sour', 'low fat yogurt', 'fresh aavarampoo', 'fenugreek seeds', 'chilli flakes', 'fresh turmeric', 'luke warm water', 'bell pepper(cubed)', 'gluten', 'tomatoes', 'nutmeg', 'strong coffee', 'baking soda', 'red chilli', 'guava', 'strawberry', 'active dry yeast', 'sev', 'egg whites', 'barnyard millet/ kuthiraivali ', 'ccoconut', 'luke', 'whole wheat flour', 'musk', 'dark', 'blackgram', 'onion', 'corainder', ' whole urad gram dal', 'dried red chillies', 'fresh coriander', 'legiyam', 'red chilly powder', 'besan/gram flour', 'ridge gourd', 'fresh grated coconut', 'lemonjuice', 'brinjal', 'gingelly oil', 'currants', 'cooking oil', 'castor sugar', 'icing sugar', 'eggs ', 'soda water', 'tomato\\n  ', 'apple(cored', 'green peas', 'carrots', 'melted and cooled butter', 'ponk /green jowar', 'mango pulp', 'star anise', 'luke warm milk', 'carrot (cubed)', '\\xa0raw rice', 'coking', 'pineapple pieces', 'byadagi chillies', 'little', 'milkmaid', 'betel leaves', 'gram dal', 'green chiilies', 'moringa leaves/ murunga keerai', 'red pepper', 'turmeric powder', 'sundried tomato', 'salted', 'coarsely', 'fresh', 'goda masala', 'fresh fenugreek seeds', 'coffee', 'boiled mixed vegetables', 'walnut', 'nylon vermicelli', 'vegetable stock/water', 'candied ginger', 'pruppu keerai', 'lemon ', 'bengal gram dhal', 'chikpea flour/besan', 'coriander seeds / daniya', 'jaggery', 'chlled milk', 'masoor', 'asafoetida ', 'egg free mayanaisse', 'chopped coriander leaves', 'dosai batter', 'almomds', 'cold water', 'butter', 'beet', 'daniya/ coriander seeds', 'tomato ', 'light corn syrup', 'raw mango', 'gram', 'bengalgram dal', 'tamarind paste', 'red chillies', 'vegetables(beans,', 'grated', 'gulkand', 'wholewheat flour', 'potatoes', 'murunga keerai / drumstick leaves', 'clove powder', 'karamudhu podi', 'thyme', 'spring onion', 'mango ginger', 'garlic paste', 'beetroot( grated)', 'yogurt', 'instant yeast', 'banana', 'capsicum', 'starter', 'ground cumin', 'sattu flour', 'asfoetida', 'eno fruit salt', 'fresh coconut', 'grated cucumber', 'apple', 'apple butter', 'cherry tomatoes(halved)', 'cumin', 'diced cucumber', 'urad dal/ black gram dal', 'peppper', 'foxtail millet', 'pulp of tender coconut', 'must melon cubes', 'mozarella cheese', 'wtaer', 'pepper corns', 'asafoetida/ hing', 'freshly grated coconut', 'instant yest', 'brown chickpeas/ kala channa', 'avocado', 'apple cider vinegar', 'kasuri  methi', 'green gram dal', 'saffron strands ', 'heavy cream ', 'golden raisins', 'chocolates and cherries', 'toasted nuts', 'mint/coriander', 'maize', 'green beans', 'jeera', 'chocolate chips', 'methi daana / fenugreek seeds', 'cardamom ppowder', 'cinnamom', 'karamani/ black eyed peas', 'ripe avocado', 'chiili', 'full', 'pomegranate', 'thick coconut milk ', 'almond meal', 'bread crumbs', 'clarified butter', 'toasted sesame seeds', 'paneer', 'lettuce(shredded)', 'butter scotch essence', 'milk powder', 'spring onion greens', 'milagu / pepper', 'dried', 'quinoa', 'canned chickpeas', 'guntur red hillies', 'hot', 'dried apricots', 'roasted cumin powder', 'daniya powder', 'warm milk', 'wheat flour', 'kala', 'instant coffee powder', 'herbs', 'white sugar', 'finger millet', 'big eggplant', 'narthangai/citron\\xa0 ', 'oregano', 'channa dal/bengal gram dal', 'processed rice flour', 'water melon cubes', 'bengal', 'sourdough starter', 'peeled and deseeded lychee', 'olive oil', 'rock salt', 'sugar', 'pistachio', 'garam masala ', 'semolina', 'coriander powder', 'chilli powder', 'milk to soak the saffron', 'beetroot', 'ladyfinger / bhendi', 'milk', 'green chiily', 'pachai kalpuram', 'cloves', 'english mustard sauce', 'kiwi', 'garam masala', 'brown butter', 'green bell pepper', 'soy sauce', 'green gram sprouts', 'murunga keerai spice podi', 'hung curd', 'cauliflower florets', 'broccoli', 'jaggery powder', 'gooseberries', 'green chilli ', 'pesto', 'orange marmalade', 'red lentil / masoor dal', 'coriander seeds', 'dates', 'warm', 'cream', 'panch poren', 'ripe banana', 'sun dried tomato', 'kasuri', 'pineapple(cubed)', 'green chilli', 'paprika', 'lychee', 'daniya', 'phool makhana', 'fresh peas', 'chaat', 'white sesame seeds', 'bittergourd', 'tea', 'garlic ', 'coriander leaves', 'walnuts', 'raw rice ', 'fenugreek', 'urad dhal', 'pomegranate pearls', 'crushed', 'mango', 'cornflour', 'rede chilli powder', 'melted butter', 'cold milk', 'black', 'chilli', 'white', 'curd/yogurt', 'fresh basil', 'bajra flour', 'unsweetened cocoa powder', 'potato', 'corn', 'onion\\n  ', 'kadalai paruppu', 'urad', 'sumac', 'grated ginger', 'peaches', 'saffron strands', 'olive oil/ghee', 'banana stem', 'italian', 'water ', 'slivered almonds', 'mixed fruit jan', 'orange carrot', 'cashew powder', 'beet greens', 'boiled potato', 'caramel', 'drumstick leaves', 'vanilla essence', 'granulated sugar', 'curry', 'milk +oil', 'instant', 'mini gulab jamun', 'cowpeas/karamani', 'horsegram/kollu', 'hot water', 'methi', 'pineapple(cut', 'baked', 'black cardamom', 'fine', 'ginger chilli paste', 'butter milk', 'sweet corn kernels', 'nutmeg powder', 'whole green moong', 'basmati', 'bitter', 'pumpkin', 'sweet', 'cumin seeds', 'peas(boiled)', 'roasted gram dal', 'dry ginger powder', 'fennel seeds', 'salt\\n  ', 'ripe', 'panch poran', 'violet', 'fresh coconut scrapping', 'cream cheese', 'cauliflower', 'mint keaves', 'cucumber', 'avarekaalu', 'cardamom powder', 'jeera powder', 'cinnamon\\n  ', 'sliced nuts', 'mustard', 'almond milk', 'mustard sauce', 'kasuri methi', 'fresh coriander( cut finely)', 'tender banan leaves', 'orange blossom water', 'small banana', 'red capsicum( cut finely)', 'rose petals', 'ener g egg replacer', 'instant puliyogare powder', 'strawberry(chopped)', 'gothsu podi', 'tuvar dal ', 'sesame seeds', 'thinai', 'methi seeds', 'lemon zest', 'dried grated coconut', 'curd ', 'boiling', 'coconut', 'lukewarm water', 'meetha pan masala', 'vanilla', 'grated carrot', 'berries', 'oil', 'red pepper sauce', 'beans', 'marinara sauce', 'brown', 'par', 'rasavangi', 'active', 'spinach', 'chiili flakes', 'ripe java plum/ jamun', 'bengal gram dal', 'proso millet', 'fresh strawberries', 'cinnamon stick', 'ghee/coconut', 'sambhar', 'ice', 'dried basil powder', 'tomato(medium', 'sago / javvarisi', 'palak', 'melon/magaz seeds', 'small', 'apple juice', 'sesame oil', 'gulab jamun', 'amchoor', 'pav', 'moong dal / paasi paruppu', 'yellow pepper', 'banan', 'milk+ water', 'amchur', 'red chillis', 'moringa leaves powder', 'chickpea vegetable salad', 'pudina /mint', 'cury leaves', 'turmeric powder ', 'egg plant (big)', 'fine semolina', 'sprouted moong beans', 'parsley', 'colourful sprinkles', 'flour', 'barnyard', 'ghee', 'lime juice', 'bread', 'cajun spice powder', 'baby', 'green cardamom', 'kayi saasve paste', 'peas', 'toasted sesame', 'ajwain', 'coarsely powdered peanuts', 'asafoetida', 'cold', 'palak/spinach', 'eggs', 'ginger', 'oil\\n  '}\n"
          ],
          "name": "stdout"
        }
      ]
    },
    {
      "cell_type": "code",
      "metadata": {
        "id": "0Rcg8PwlxN1d",
        "colab_type": "code",
        "colab": {
          "base_uri": "https://localhost:8080/",
          "height": 70
        },
        "outputId": "658a55dc-5038-46e8-949a-07d7a65290ce"
      },
      "source": [
        "maps = []\n",
        "for data in all_ingredients:\n",
        "  if \"tomato\" in data:\n",
        "    maps.append(data)\n",
        "print(len(maps))\n",
        "print(maps)"
      ],
      "execution_count": 12,
      "outputs": [
        {
          "output_type": "stream",
          "text": [
            "13\n",
            "['tomato sauce', 'cherry tomatoes', 'sundried tomatoes', 'cherrytomato', 'tomato', 'tomato puree', 'tomatoes', 'tomato\\n  ', 'sundried tomato', 'tomato ', 'cherry tomatoes(halved)', 'sun dried tomato', 'tomato(medium']\n"
          ],
          "name": "stdout"
        }
      ]
    },
    {
      "cell_type": "code",
      "metadata": {
        "id": "DZDQ9U6U0vYS",
        "colab_type": "code",
        "outputId": "a1800321-97ba-41ef-cee0-a835fe3b3e95",
        "colab": {
          "base_uri": "https://localhost:8080/",
          "height": 34
        }
      },
      "source": [
        "highest = 0\n",
        "min_len = int(len(ing)/2)\n",
        "print(min_len)\n",
        "recps = []\n",
        "for index, row in df.iterrows():\n",
        "  S1 = set(row['ingredient'])\n",
        "  S2 = set(ing)\n",
        "  intersect = len(S1.intersection(S2))\n",
        "  if intersect>=min_len:\n",
        "    if intersect > highest:\n",
        "      highest = intersect\n",
        "    recps.append(row['name'])"
      ],
      "execution_count": 11,
      "outputs": [
        {
          "output_type": "stream",
          "text": [
            "2\n"
          ],
          "name": "stdout"
        }
      ]
    },
    {
      "cell_type": "code",
      "metadata": {
        "id": "TQe435sP_osA",
        "colab_type": "code",
        "outputId": "a4abad97-38be-46fc-a66e-c70564f5a70d",
        "colab": {
          "base_uri": "https://localhost:8080/",
          "height": 1000
        }
      },
      "source": [
        "print(recps)\n",
        "print(highest)\n",
        "output_recipes = []\n",
        "for i in recps:\n",
        "  temp = (df.loc[df['name']==i])\n",
        "  output_recipes.append(temp)\n",
        "print('There are ', len(output_recipes), ' recipes possible')\n",
        "for rec in output_recipes:\n",
        "  print(rec['name'], ' ingredients \\n',rec['ingredient'])"
      ],
      "execution_count": 9,
      "outputs": [
        {
          "output_type": "stream",
          "text": [
            "['rajasthani dal dhokli in nutripot', 'nutri-pot rajma masala', 'nutri-pot dal with beet greens', 'tangy sweet corn chat', 'pegan spinach broccoli soup in instapot', 'fresh green channa chat / hara channa chaat', 'kaddu ki sabzi', 'ponk salad/ green jowar salad', 'tomato onion chutney', 'finger millet pasta in marinara sauce', 'green peas ambti', 'papdi canape chaat', 'vegetable kolhapuri -a recipe from tarla dalal', 'saag paneer restaurant style', 'cabbage chutney', 'vegan nicoise salad', 'tomato bisque', 'palak paneer soup', 'dal tadka-dhaba style', 'chat masala flavoured chickpea pomegranate salad', 'pav bhaji dip -an exotic indian flavoured dip', 'murugan idli shop daniya chutney', 'madras ratna cafe sambhar', 'broccoli spinach coconut soup', 'creamy  sprouted moong subzi', 'green peas masala in pressure cooker', 'avocado tomato salad', 'dal tadka', 'mutter ka nimona', 'vegetable bajra sevai / kambu sevai', 'fresh tuvar curry', 'lobia masala curry / karamani masala curry', 'paneer spinach balls', 'spicy vegetable sandwich', 'spicy corn curry', 'vegetable and baked bean quesadilla', 'fresh tomato salsa', 'pasta al forno', 'cheesy bread rings', 'mixed vegetable masala rice', 'aloo mutter without onion and garlic']\n",
            "2\n",
            "There are  41  recipes possible\n",
            "2    rajasthani dal dhokli in nutripot\n",
            "Name: name, dtype: object  ingredients \n",
            " 2    [wheat flour, gram flour, kasuri  methi, chill...\n",
            "Name: ingredient, dtype: object\n",
            "5    nutri-pot rajma masala\n",
            "Name: name, dtype: object  ingredients \n",
            " 5    [rajma / kidney beans, onion, tomato, green ch...\n",
            "Name: ingredient, dtype: object\n",
            "7    nutri-pot dal with beet greens\n",
            "Name: name, dtype: object  ingredients \n",
            " 7    [onion, tomato, beet greens, tuvar dal, moong ...\n",
            "Name: ingredient, dtype: object\n",
            "13    tangy sweet corn chat\n",
            "Name: name, dtype: object  ingredients \n",
            " 13    [sweet corn kernels, onion, tomato, oil, turme...\n",
            "Name: ingredient, dtype: object\n",
            "45    pegan spinach broccoli soup in instapot\n",
            "Name: name, dtype: object  ingredients \n",
            " 45    [spinach, broccoli, bay leaf, garlic, coconut ...\n",
            "Name: ingredient, dtype: object\n",
            "49    fresh green channa chat / hara channa chaat\n",
            "Name: name, dtype: object  ingredients \n",
            " 49    [fresh green chickpeas, onion, tomato, cucumbe...\n",
            "Name: ingredient, dtype: object\n",
            "61    kaddu ki sabzi\n",
            "Name: name, dtype: object  ingredients \n",
            " 61    [pumpkin, onion, oil, mustard seeds, cumin see...\n",
            "Name: ingredient, dtype: object\n",
            "62    ponk salad/ green jowar salad\n",
            "Name: name, dtype: object  ingredients \n",
            " 62    [ponk /green jowar, onion, tomato, green chill...\n",
            "Name: ingredient, dtype: object\n",
            "76    tomato onion chutney\n",
            "Name: name, dtype: object  ingredients \n",
            " 76    [onion, tomato, green chilly, garlic, ginger, ...\n",
            "Name: ingredient, dtype: object\n",
            "77    finger millet pasta in marinara sauce\n",
            "Name: name, dtype: object  ingredients \n",
            " 77    [finger millet, onion, tomato, mixed vegetable...\n",
            "Name: ingredient, dtype: object\n",
            "83    green peas ambti\n",
            "Name: name, dtype: object  ingredients \n",
            " 83    [fresh green peas, onion, tomato, coriander se...\n",
            "Name: ingredient, dtype: object\n",
            "95    papdi canape chaat\n",
            "Name: name, dtype: object  ingredients \n",
            " 95    [chikpea flour/besan, wholewheat flour, oil, r...\n",
            "Name: ingredient, dtype: object\n",
            "101    vegetable kolhapuri -a recipe from tarla dalal\n",
            "Name: name, dtype: object  ingredients \n",
            " 101    [boiled mixed vegetables, onion, tomato, garam...\n",
            "Name: ingredient, dtype: object\n",
            "103    saag paneer restaurant style\n",
            "Name: name, dtype: object  ingredients \n",
            " 103    [palak, paneer, onion, tomato, turmeric powder...\n",
            "Name: ingredient, dtype: object\n",
            "117    cabbage chutney\n",
            "Name: name, dtype: object  ingredients \n",
            " 117    [cabbage, onion, tomato, green chillies, red c...\n",
            "Name: ingredient, dtype: object\n",
            "123    vegan nicoise salad\n",
            "Name: name, dtype: object  ingredients \n",
            " 123    [potato, cherry tomatoes(halved), green beans,...\n",
            "Name: ingredient, dtype: object\n",
            "124    tomato bisque\n",
            "Name: name, dtype: object  ingredients \n",
            " 124    [butter, onion, tomato, carrot, garlic, milk, ...\n",
            "Name: ingredient, dtype: object\n",
            "138    palak paneer soup\n",
            "Name: name, dtype: object  ingredients \n",
            " 138    [spinach, onion, garlic, garam masala , salt, ...\n",
            "Name: ingredient, dtype: object\n",
            "159    dal tadka-dhaba style\n",
            "Name: name, dtype: object  ingredients \n",
            " 159    [tuvar dal, bengal gram dal, ghee, onion, toma...\n",
            "Name: ingredient, dtype: object\n",
            "160    chat masala flavoured chickpea pomegranate salad\n",
            "Name: name, dtype: object  ingredients \n",
            " 160    [brown chickpeas/ kala channa, onion, tomato, ...\n",
            "Name: ingredient, dtype: object\n",
            "172    pav bhaji dip -an exotic indian flavoured dip\n",
            "Name: name, dtype: object  ingredients \n",
            " 172    [onion, capsicum, tomato, carrot, beans, peas,...\n",
            "Name: ingredient, dtype: object\n",
            "175    murugan idli shop daniya chutney\n",
            "Name: name, dtype: object  ingredients \n",
            " 175    [coriander seeds, black gram dal, bengal gram ...\n",
            "Name: ingredient, dtype: object\n",
            "176    madras ratna cafe sambhar\n",
            "Name: name, dtype: object  ingredients \n",
            " 176    [urad dal, red chillies, coriander seeds, fenu...\n",
            "Name: ingredient, dtype: object\n",
            "214    broccoli spinach coconut soup\n",
            "Name: name, dtype: object  ingredients \n",
            " 214    [brocolli florets, spinach, onion, green chill...\n",
            "Name: ingredient, dtype: object\n",
            "226    creamy  sprouted moong subzi\n",
            "Name: name, dtype: object  ingredients \n",
            " 226    [sprouted moong beans, onion, tomato, chilli p...\n",
            "Name: ingredient, dtype: object\n",
            "261    green peas masala in pressure cooker\n",
            "Name: name, dtype: object  ingredients \n",
            " 261    [fresh, onion, tomato, coriander, cumin, garam...\n",
            "Name: ingredient, dtype: object\n",
            "281    avocado tomato salad\n",
            "287    avocado tomato salad\n",
            "Name: name, dtype: object  ingredients \n",
            " 281    [avocado, onion, tomato, cucumber, olive, pepp...\n",
            "287    [avocado, cumber, cherrytomato, salt, olive, p...\n",
            "Name: ingredient, dtype: object\n",
            "339    dal tadka\n",
            "Name: name, dtype: object  ingredients \n",
            " 339    [tuvar, masoor, onion, tomato, green, cinnamon...\n",
            "Name: ingredient, dtype: object\n",
            "346    mutter ka nimona\n",
            "Name: name, dtype: object  ingredients \n",
            " 346    [fresh, onion, tomato, cumin, ginger, green, c...\n",
            "Name: ingredient, dtype: object\n",
            "357    vegetable bajra sevai / kambu sevai\n",
            "Name: name, dtype: object  ingredients \n",
            " 357    [bajra, onion, tomato, capsicum, carrot, beans...\n",
            "Name: ingredient, dtype: object\n",
            "359    fresh tuvar curry\n",
            "Name: name, dtype: object  ingredients \n",
            " 359    [fresh, onion, tomato, green, oil, cumin, cori...\n",
            "Name: ingredient, dtype: object\n",
            "366    lobia masala curry / karamani masala curry\n",
            "Name: name, dtype: object  ingredients \n",
            " 366    [cowpeas/karamani, cumin, onion, tomato, ginge...\n",
            "Name: ingredient, dtype: object\n",
            "369    paneer spinach balls\n",
            "Name: name, dtype: object  ingredients \n",
            " 369    [panner, spinach, potato, green, red, garam, c...\n",
            "Name: ingredient, dtype: object\n",
            "386    spicy vegetable sandwich\n",
            "Name: name, dtype: object  ingredients \n",
            " 386    [bread, onion, tomato, green, carrot, italian,...\n",
            "Name: ingredient, dtype: object\n",
            "387    spicy corn curry\n",
            "Name: name, dtype: object  ingredients \n",
            " 387    [sweet, cumin, carrot, beans, onion, tomato\\n ...\n",
            "Name: ingredient, dtype: object\n",
            "391    vegetable and baked bean quesadilla\n",
            "Name: name, dtype: object  ingredients \n",
            " 391    [tortillas, baked, onion, tomato, green, mozza...\n",
            "Name: ingredient, dtype: object\n",
            "427    fresh tomato salsa\n",
            "Name: name, dtype: object  ingredients \n",
            " 427    [tomato, green, onion, basil, thyme, olive, pe...\n",
            "Name: ingredient, dtype: object\n",
            "431    pasta al forno\n",
            "Name: name, dtype: object  ingredients \n",
            " 431    [pasta, onion, green, red, marinara, tomato, o...\n",
            "Name: ingredient, dtype: object\n",
            "432    cheesy bread rings\n",
            "Name: name, dtype: object  ingredients \n",
            " 432    [red, green, onion, tomato, coriander, mozarel...\n",
            "Name: ingredient, dtype: object\n",
            "433    mixed vegetable masala rice\n",
            "Name: name, dtype: object  ingredients \n",
            " 433    [brown, water, onion, beans, carrot, green, to...\n",
            "Name: ingredient, dtype: object\n",
            "449    aloo mutter without onion and garlic\n",
            "Name: name, dtype: object  ingredients \n",
            " 449    [tomato, potato, fresh, green, ginger, chilli,...\n",
            "Name: ingredient, dtype: object\n"
          ],
          "name": "stdout"
        }
      ]
    }
  ]
}